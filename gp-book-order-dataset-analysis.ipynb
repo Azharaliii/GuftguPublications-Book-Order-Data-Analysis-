{
 "cells": [
  {
   "cell_type": "markdown",
   "id": "0168db34",
   "metadata": {
    "papermill": {
     "duration": 0.007935,
     "end_time": "2025-07-19T10:49:29.475266",
     "exception": false,
     "start_time": "2025-07-19T10:49:29.467331",
     "status": "completed"
    },
    "tags": []
   },
   "source": [
    "## 📈 Book Orders Data Analysis (GP Dataset)\n",
    "This analysis explores the top-selling books, city-wise orders, revenue estimates, and trends over time using Pandas, metplotlib and NumPy.\n"
   ]
  },
  {
   "cell_type": "markdown",
   "id": "3583f67c",
   "metadata": {
    "papermill": {
     "duration": 0.006528,
     "end_time": "2025-07-19T10:49:29.488990",
     "exception": false,
     "start_time": "2025-07-19T10:49:29.482462",
     "status": "completed"
    },
    "tags": []
   },
   "source": [
    "**Data Clean**"
   ]
  },
  {
   "cell_type": "code",
   "execution_count": 1,
   "id": "dbc42a5b",
   "metadata": {
    "execution": {
     "iopub.execute_input": "2025-07-19T10:49:29.503950Z",
     "iopub.status.busy": "2025-07-19T10:49:29.503616Z",
     "iopub.status.idle": "2025-07-19T10:49:43.799391Z",
     "shell.execute_reply": "2025-07-19T10:49:43.798366Z"
    },
    "papermill": {
     "duration": 14.305672,
     "end_time": "2025-07-19T10:49:43.801475",
     "exception": false,
     "start_time": "2025-07-19T10:49:29.495803",
     "status": "completed"
    },
    "tags": []
   },
   "outputs": [
    {
     "data": {
      "text/html": [
       "\n",
       "            <div>\n",
       "                <ins><a href=\"https://ydata.ai/register\">Upgrade to ydata-sdk</a></ins>\n",
       "                <p>\n",
       "                    Improve your data and profiling with ydata-sdk, featuring data quality scoring, redundancy detection, outlier identification, text validation, and synthetic data generation.\n",
       "                </p>\n",
       "            </div>\n",
       "            "
      ],
      "text/plain": [
       "<IPython.core.display.HTML object>"
      ]
     },
     "metadata": {},
     "output_type": "display_data"
    }
   ],
   "source": [
    "import pandas as pd\n",
    "!pip install -q ydata-profiling\n",
    "from ydata_profiling import ProfileReport    \n",
    "\n",
    "\n",
    "# Clean whitespace and lowercase City and Book Name\n",
    "df = pd.read_csv('/kaggle/input/gufhtugu-publications-dataset-challenge/GP Orders - 5.csv')\n",
    "\n",
    "\n",
    "df['City'] = df['City'].str.strip().str.lower()\n",
    "df['Book Name'] = df['Book Name'].str.strip().str.title()\n",
    "\n",
    "# Convert 'Order Date & Time' to datetime\n",
    "df['Order Date & Time'] = pd.to_datetime(df['Order Date & Time'])\n"
   ]
  },
  {
   "cell_type": "markdown",
   "id": "14ea604b",
   "metadata": {
    "papermill": {
     "duration": 0.008177,
     "end_time": "2025-07-19T10:49:43.823221",
     "exception": false,
     "start_time": "2025-07-19T10:49:43.815044",
     "status": "completed"
    },
    "tags": []
   },
   "source": [
    "**1.Breif Report file**"
   ]
  },
  {
   "cell_type": "markdown",
   "id": "34782bf1",
   "metadata": {
    "papermill": {
     "duration": 0.00663,
     "end_time": "2025-07-19T10:49:43.836973",
     "exception": false,
     "start_time": "2025-07-19T10:49:43.830343",
     "status": "completed"
    },
    "tags": []
   },
   "source": [
    "##  GP Orders Dataset  Exploratory Data Analysis Report\n",
    "\n",
    "This report provides a comprehensive exploratory data analysis (EDA) of the **Gufhtugu Publications Orders Dataset**. The report was generated using **Pandas Profiling**, offering insights into the dataset's structure, distributions, correlations, missing values, and more.  \n",
    "📁 File: `GP_Orders_Report.html`\n"
   ]
  },
  {
   "cell_type": "code",
   "execution_count": 2,
   "id": "40940b12",
   "metadata": {
    "execution": {
     "iopub.execute_input": "2025-07-19T10:49:43.853126Z",
     "iopub.status.busy": "2025-07-19T10:49:43.852160Z",
     "iopub.status.idle": "2025-07-19T10:50:28.948728Z",
     "shell.execute_reply": "2025-07-19T10:50:28.947870Z"
    },
    "papermill": {
     "duration": 45.106121,
     "end_time": "2025-07-19T10:50:28.950069",
     "exception": false,
     "start_time": "2025-07-19T10:49:43.843948",
     "status": "completed"
    },
    "tags": []
   },
   "outputs": [
    {
     "data": {
      "application/vnd.jupyter.widget-view+json": {
       "model_id": "0a72e6fa302847c4928557e50261d733",
       "version_major": 2,
       "version_minor": 0
      },
      "text/plain": [
       "Summarize dataset:   0%|          | 0/5 [00:00<?, ?it/s]"
      ]
     },
     "metadata": {},
     "output_type": "display_data"
    },
    {
     "name": "stderr",
     "output_type": "stream",
     "text": [
      "\n",
      "  0%|          | 0/8 [00:00<?, ?it/s]\u001b[A\n",
      " 12%|█▎        | 1/8 [00:00<00:05,  1.35it/s]\u001b[A\n",
      " 38%|███▊      | 3/8 [00:01<00:01,  3.05it/s]\u001b[A\n",
      "100%|██████████| 8/8 [00:05<00:00,  1.60it/s]\n"
     ]
    },
    {
     "data": {
      "application/vnd.jupyter.widget-view+json": {
       "model_id": "a8809cbcb53244ba905c06e21d9a80e1",
       "version_major": 2,
       "version_minor": 0
      },
      "text/plain": [
       "Generate report structure:   0%|          | 0/1 [00:00<?, ?it/s]"
      ]
     },
     "metadata": {},
     "output_type": "display_data"
    },
    {
     "data": {
      "application/vnd.jupyter.widget-view+json": {
       "model_id": "5abe0fcf86a8421dac830db9b8ae9d77",
       "version_major": 2,
       "version_minor": 0
      },
      "text/plain": [
       "Render HTML:   0%|          | 0/1 [00:00<?, ?it/s]"
      ]
     },
     "metadata": {},
     "output_type": "display_data"
    },
    {
     "data": {
      "application/vnd.jupyter.widget-view+json": {
       "model_id": "e4f82814ed2a431593fe79b9afc21ad9",
       "version_major": 2,
       "version_minor": 0
      },
      "text/plain": [
       "Export report to file:   0%|          | 0/1 [00:00<?, ?it/s]"
      ]
     },
     "metadata": {},
     "output_type": "display_data"
    }
   ],
   "source": [
    "\n",
    "\n",
    "\n",
    "df = pd.read_csv('/kaggle/input/gufhtugu-publications-dataset-challenge/GP Orders - 5.csv')\n",
    "\n",
    "#  Build and save the profile report.\n",
    "profile = ProfileReport(df, title=\"GP Orders Report\", explorative=True)\n",
    "profile.to_file(\"GP_Orders_Report.html\")      # HTML saved in the notebook workspace\n",
    "\n",
    "\n"
   ]
  },
  {
   "cell_type": "markdown",
   "id": "a88743b0",
   "metadata": {
    "papermill": {
     "duration": 0.00815,
     "end_time": "2025-07-19T10:50:28.966778",
     "exception": false,
     "start_time": "2025-07-19T10:50:28.958628",
     "status": "completed"
    },
    "tags": []
   },
   "source": [
    "**2. Display Top 5 Rows**"
   ]
  },
  {
   "cell_type": "code",
   "execution_count": 3,
   "id": "e46edc5c",
   "metadata": {
    "execution": {
     "iopub.execute_input": "2025-07-19T10:50:28.984044Z",
     "iopub.status.busy": "2025-07-19T10:50:28.983698Z",
     "iopub.status.idle": "2025-07-19T10:50:28.997960Z",
     "shell.execute_reply": "2025-07-19T10:50:28.997168Z"
    },
    "papermill": {
     "duration": 0.024554,
     "end_time": "2025-07-19T10:50:28.999335",
     "exception": false,
     "start_time": "2025-07-19T10:50:28.974781",
     "status": "completed"
    },
    "tags": []
   },
   "outputs": [
    {
     "data": {
      "text/html": [
       "<div>\n",
       "<style scoped>\n",
       "    .dataframe tbody tr th:only-of-type {\n",
       "        vertical-align: middle;\n",
       "    }\n",
       "\n",
       "    .dataframe tbody tr th {\n",
       "        vertical-align: top;\n",
       "    }\n",
       "\n",
       "    .dataframe thead th {\n",
       "        text-align: right;\n",
       "    }\n",
       "</style>\n",
       "<table border=\"1\" class=\"dataframe\">\n",
       "  <thead>\n",
       "    <tr style=\"text-align: right;\">\n",
       "      <th></th>\n",
       "      <th>Order Number</th>\n",
       "      <th>Order Status</th>\n",
       "      <th>Book Name</th>\n",
       "      <th>Order Date &amp; Time</th>\n",
       "      <th>City</th>\n",
       "      <th>Payment Method</th>\n",
       "      <th>Total items</th>\n",
       "      <th>Total weight (grams)</th>\n",
       "    </tr>\n",
       "  </thead>\n",
       "  <tbody>\n",
       "    <tr>\n",
       "      <th>0</th>\n",
       "      <td>307</td>\n",
       "      <td>Completed</td>\n",
       "      <td>Bitcoin Blockchain aur Crypto Currency - FREE ...</td>\n",
       "      <td>10/3/2019 15:03</td>\n",
       "      <td>faisalabad</td>\n",
       "      <td>NaN</td>\n",
       "      <td>2</td>\n",
       "      <td>200.0</td>\n",
       "    </tr>\n",
       "    <tr>\n",
       "      <th>1</th>\n",
       "      <td>308</td>\n",
       "      <td>Completed</td>\n",
       "      <td>Kaggle for Begginers</td>\n",
       "      <td>10/3/2019 15:54</td>\n",
       "      <td>Rawalpindi</td>\n",
       "      <td>Cash on Delivery (COD)</td>\n",
       "      <td>1</td>\n",
       "      <td>200.0</td>\n",
       "    </tr>\n",
       "    <tr>\n",
       "      <th>2</th>\n",
       "      <td>309</td>\n",
       "      <td>Completed</td>\n",
       "      <td>Kaggle for Begginers/Bitcoin Blockchain aur Cr...</td>\n",
       "      <td>10/3/2019 16:09</td>\n",
       "      <td>Hyderabad</td>\n",
       "      <td>Cash on Delivery (COD)</td>\n",
       "      <td>2</td>\n",
       "      <td>200.0</td>\n",
       "    </tr>\n",
       "    <tr>\n",
       "      <th>3</th>\n",
       "      <td>310</td>\n",
       "      <td>Cancelled</td>\n",
       "      <td>Kaggle for Begginers</td>\n",
       "      <td>10/3/2019 16:42</td>\n",
       "      <td>Rawalpindi</td>\n",
       "      <td>Cash on Delivery (COD)</td>\n",
       "      <td>1</td>\n",
       "      <td>200.0</td>\n",
       "    </tr>\n",
       "    <tr>\n",
       "      <th>4</th>\n",
       "      <td>311</td>\n",
       "      <td>Completed</td>\n",
       "      <td>Bit Coin Block Chain aur Crypto Currency بٹ کو...</td>\n",
       "      <td>10/3/2019 16:44</td>\n",
       "      <td>Karachi</td>\n",
       "      <td>Cash on Delivery (COD)</td>\n",
       "      <td>1</td>\n",
       "      <td>200.0</td>\n",
       "    </tr>\n",
       "  </tbody>\n",
       "</table>\n",
       "</div>"
      ],
      "text/plain": [
       "   Order Number Order Status  \\\n",
       "0           307    Completed   \n",
       "1           308    Completed   \n",
       "2           309    Completed   \n",
       "3           310    Cancelled   \n",
       "4           311    Completed   \n",
       "\n",
       "                                           Book Name Order Date & Time  \\\n",
       "0  Bitcoin Blockchain aur Crypto Currency - FREE ...   10/3/2019 15:03   \n",
       "1                               Kaggle for Begginers   10/3/2019 15:54   \n",
       "2  Kaggle for Begginers/Bitcoin Blockchain aur Cr...   10/3/2019 16:09   \n",
       "3                               Kaggle for Begginers   10/3/2019 16:42   \n",
       "4  Bit Coin Block Chain aur Crypto Currency بٹ کو...   10/3/2019 16:44   \n",
       "\n",
       "         City          Payment Method  Total items  Total weight (grams)  \n",
       "0  faisalabad                     NaN            2                 200.0  \n",
       "1  Rawalpindi  Cash on Delivery (COD)            1                 200.0  \n",
       "2   Hyderabad  Cash on Delivery (COD)            2                 200.0  \n",
       "3  Rawalpindi  Cash on Delivery (COD)            1                 200.0  \n",
       "4    Karachi   Cash on Delivery (COD)            1                 200.0  "
      ]
     },
     "execution_count": 3,
     "metadata": {},
     "output_type": "execute_result"
    }
   ],
   "source": [
    "df.head()"
   ]
  },
  {
   "cell_type": "markdown",
   "id": "3ce6a7fc",
   "metadata": {
    "papermill": {
     "duration": 0.007931,
     "end_time": "2025-07-19T10:50:29.015605",
     "exception": false,
     "start_time": "2025-07-19T10:50:29.007674",
     "status": "completed"
    },
    "tags": []
   },
   "source": [
    "**3.Display Last 5 rows**"
   ]
  },
  {
   "cell_type": "code",
   "execution_count": 4,
   "id": "19d2854a",
   "metadata": {
    "execution": {
     "iopub.execute_input": "2025-07-19T10:50:29.033151Z",
     "iopub.status.busy": "2025-07-19T10:50:29.032816Z",
     "iopub.status.idle": "2025-07-19T10:50:29.046589Z",
     "shell.execute_reply": "2025-07-19T10:50:29.045770Z"
    },
    "papermill": {
     "duration": 0.024296,
     "end_time": "2025-07-19T10:50:29.047957",
     "exception": false,
     "start_time": "2025-07-19T10:50:29.023661",
     "status": "completed"
    },
    "tags": []
   },
   "outputs": [
    {
     "data": {
      "text/html": [
       "<div>\n",
       "<style scoped>\n",
       "    .dataframe tbody tr th:only-of-type {\n",
       "        vertical-align: middle;\n",
       "    }\n",
       "\n",
       "    .dataframe tbody tr th {\n",
       "        vertical-align: top;\n",
       "    }\n",
       "\n",
       "    .dataframe thead th {\n",
       "        text-align: right;\n",
       "    }\n",
       "</style>\n",
       "<table border=\"1\" class=\"dataframe\">\n",
       "  <thead>\n",
       "    <tr style=\"text-align: right;\">\n",
       "      <th></th>\n",
       "      <th>Order Number</th>\n",
       "      <th>Order Status</th>\n",
       "      <th>Book Name</th>\n",
       "      <th>Order Date &amp; Time</th>\n",
       "      <th>City</th>\n",
       "      <th>Payment Method</th>\n",
       "      <th>Total items</th>\n",
       "      <th>Total weight (grams)</th>\n",
       "    </tr>\n",
       "  </thead>\n",
       "  <tbody>\n",
       "    <tr>\n",
       "      <th>19234</th>\n",
       "      <td>71332</td>\n",
       "      <td>Completed</td>\n",
       "      <td>Linux - An Introduction</td>\n",
       "      <td>1/25/2021 12:46</td>\n",
       "      <td>Lahore</td>\n",
       "      <td>Cash on delivery</td>\n",
       "      <td>1</td>\n",
       "      <td>200.0</td>\n",
       "    </tr>\n",
       "    <tr>\n",
       "      <th>19235</th>\n",
       "      <td>71394</td>\n",
       "      <td>Completed</td>\n",
       "      <td>R ka Taaruf/ڈیٹا سائنس/Python Programming/Kagg...</td>\n",
       "      <td>1/25/2021 14:06</td>\n",
       "      <td>Lahore</td>\n",
       "      <td>Cash on delivery</td>\n",
       "      <td>4</td>\n",
       "      <td>200.0</td>\n",
       "    </tr>\n",
       "    <tr>\n",
       "      <th>19236</th>\n",
       "      <td>71418</td>\n",
       "      <td>Completed</td>\n",
       "      <td>Blockchain, Cryptocurrency And Bitcoin/Column ...</td>\n",
       "      <td>1/25/2021 16:37</td>\n",
       "      <td>Larkana</td>\n",
       "      <td>Cash on delivery</td>\n",
       "      <td>2</td>\n",
       "      <td>500.0</td>\n",
       "    </tr>\n",
       "    <tr>\n",
       "      <th>19237</th>\n",
       "      <td>71419</td>\n",
       "      <td>Completed</td>\n",
       "      <td>مشین لرننگ/ڈیٹا سائنس/Artificial Intelligence/...</td>\n",
       "      <td>1/25/2021 18:01</td>\n",
       "      <td>Mailsi, district Vehari</td>\n",
       "      <td>Cash on delivery</td>\n",
       "      <td>10</td>\n",
       "      <td>400.0</td>\n",
       "    </tr>\n",
       "    <tr>\n",
       "      <th>19238</th>\n",
       "      <td>71420</td>\n",
       "      <td>Completed</td>\n",
       "      <td>Linux - An Introduction/Python Programming/Kag...</td>\n",
       "      <td>1/25/2021 20:47</td>\n",
       "      <td>Lahore</td>\n",
       "      <td>Cash on delivery</td>\n",
       "      <td>7</td>\n",
       "      <td>400.0</td>\n",
       "    </tr>\n",
       "  </tbody>\n",
       "</table>\n",
       "</div>"
      ],
      "text/plain": [
       "       Order Number Order Status  \\\n",
       "19234         71332    Completed   \n",
       "19235         71394    Completed   \n",
       "19236         71418    Completed   \n",
       "19237         71419    Completed   \n",
       "19238         71420    Completed   \n",
       "\n",
       "                                               Book Name Order Date & Time  \\\n",
       "19234                            Linux - An Introduction   1/25/2021 12:46   \n",
       "19235  R ka Taaruf/ڈیٹا سائنس/Python Programming/Kagg...   1/25/2021 14:06   \n",
       "19236  Blockchain, Cryptocurrency And Bitcoin/Column ...   1/25/2021 16:37   \n",
       "19237  مشین لرننگ/ڈیٹا سائنس/Artificial Intelligence/...   1/25/2021 18:01   \n",
       "19238  Linux - An Introduction/Python Programming/Kag...   1/25/2021 20:47   \n",
       "\n",
       "                          City    Payment Method  Total items  \\\n",
       "19234                   Lahore  Cash on delivery            1   \n",
       "19235                   Lahore  Cash on delivery            4   \n",
       "19236                  Larkana  Cash on delivery            2   \n",
       "19237  Mailsi, district Vehari  Cash on delivery           10   \n",
       "19238                   Lahore  Cash on delivery            7   \n",
       "\n",
       "       Total weight (grams)  \n",
       "19234                 200.0  \n",
       "19235                 200.0  \n",
       "19236                 500.0  \n",
       "19237                 400.0  \n",
       "19238                 400.0  "
      ]
     },
     "execution_count": 4,
     "metadata": {},
     "output_type": "execute_result"
    }
   ],
   "source": [
    "df.tail()"
   ]
  },
  {
   "cell_type": "markdown",
   "id": "115779df",
   "metadata": {
    "papermill": {
     "duration": 0.008077,
     "end_time": "2025-07-19T10:50:29.064693",
     "exception": false,
     "start_time": "2025-07-19T10:50:29.056616",
     "status": "completed"
    },
    "tags": []
   },
   "source": [
    "**4.Check DataType of Each column**"
   ]
  },
  {
   "cell_type": "code",
   "execution_count": 5,
   "id": "24b26790",
   "metadata": {
    "execution": {
     "iopub.execute_input": "2025-07-19T10:50:29.082562Z",
     "iopub.status.busy": "2025-07-19T10:50:29.082217Z",
     "iopub.status.idle": "2025-07-19T10:50:29.088910Z",
     "shell.execute_reply": "2025-07-19T10:50:29.088148Z"
    },
    "papermill": {
     "duration": 0.017266,
     "end_time": "2025-07-19T10:50:29.090309",
     "exception": false,
     "start_time": "2025-07-19T10:50:29.073043",
     "status": "completed"
    },
    "tags": []
   },
   "outputs": [
    {
     "data": {
      "text/plain": [
       "Order Number              int64\n",
       "Order Status             object\n",
       "Book Name                object\n",
       "Order Date & Time        object\n",
       "City                     object\n",
       "Payment Method           object\n",
       "Total items               int64\n",
       "Total weight (grams)    float64\n",
       "dtype: object"
      ]
     },
     "execution_count": 5,
     "metadata": {},
     "output_type": "execute_result"
    }
   ],
   "source": [
    "df.dtypes"
   ]
  },
  {
   "cell_type": "markdown",
   "id": "2609557f",
   "metadata": {
    "papermill": {
     "duration": 0.008454,
     "end_time": "2025-07-19T10:50:29.107699",
     "exception": false,
     "start_time": "2025-07-19T10:50:29.099245",
     "status": "completed"
    },
    "tags": []
   },
   "source": []
  },
  {
   "cell_type": "markdown",
   "id": "7918a81c",
   "metadata": {
    "papermill": {
     "duration": 0.008423,
     "end_time": "2025-07-19T10:50:29.124930",
     "exception": false,
     "start_time": "2025-07-19T10:50:29.116507",
     "status": "completed"
    },
    "tags": []
   },
   "source": [
    "**5.Check and Count Null Values in the DataSet**"
   ]
  },
  {
   "cell_type": "code",
   "execution_count": 6,
   "id": "e572f167",
   "metadata": {
    "execution": {
     "iopub.execute_input": "2025-07-19T10:50:29.144201Z",
     "iopub.status.busy": "2025-07-19T10:50:29.143544Z",
     "iopub.status.idle": "2025-07-19T10:50:29.156127Z",
     "shell.execute_reply": "2025-07-19T10:50:29.155185Z"
    },
    "papermill": {
     "duration": 0.02402,
     "end_time": "2025-07-19T10:50:29.157635",
     "exception": false,
     "start_time": "2025-07-19T10:50:29.133615",
     "status": "completed"
    },
    "tags": []
   },
   "outputs": [
    {
     "data": {
      "text/plain": [
       "Order Number             0\n",
       "Order Status             0\n",
       "Book Name                2\n",
       "Order Date & Time        0\n",
       "City                     1\n",
       "Payment Method          10\n",
       "Total items              0\n",
       "Total weight (grams)     0\n",
       "dtype: int64"
      ]
     },
     "execution_count": 6,
     "metadata": {},
     "output_type": "execute_result"
    }
   ],
   "source": [
    "df.isnull().sum()"
   ]
  },
  {
   "cell_type": "markdown",
   "id": "45ef64e8",
   "metadata": {
    "papermill": {
     "duration": 0.00876,
     "end_time": "2025-07-19T10:50:29.241947",
     "exception": false,
     "start_time": "2025-07-19T10:50:29.233187",
     "status": "completed"
    },
    "tags": []
   },
   "source": [
    "**6.Number of rows and colmns**"
   ]
  },
  {
   "cell_type": "code",
   "execution_count": 7,
   "id": "948bcd65",
   "metadata": {
    "execution": {
     "iopub.execute_input": "2025-07-19T10:50:29.261329Z",
     "iopub.status.busy": "2025-07-19T10:50:29.260487Z",
     "iopub.status.idle": "2025-07-19T10:50:29.265899Z",
     "shell.execute_reply": "2025-07-19T10:50:29.265108Z"
    },
    "papermill": {
     "duration": 0.016447,
     "end_time": "2025-07-19T10:50:29.267190",
     "exception": false,
     "start_time": "2025-07-19T10:50:29.250743",
     "status": "completed"
    },
    "tags": []
   },
   "outputs": [
    {
     "data": {
      "text/plain": [
       "8"
      ]
     },
     "execution_count": 7,
     "metadata": {},
     "output_type": "execute_result"
    }
   ],
   "source": [
    "len(df.columns)"
   ]
  },
  {
   "cell_type": "code",
   "execution_count": 8,
   "id": "4fba39cd",
   "metadata": {
    "execution": {
     "iopub.execute_input": "2025-07-19T10:50:29.286724Z",
     "iopub.status.busy": "2025-07-19T10:50:29.285957Z",
     "iopub.status.idle": "2025-07-19T10:50:29.291435Z",
     "shell.execute_reply": "2025-07-19T10:50:29.290598Z"
    },
    "papermill": {
     "duration": 0.016835,
     "end_time": "2025-07-19T10:50:29.292940",
     "exception": false,
     "start_time": "2025-07-19T10:50:29.276105",
     "status": "completed"
    },
    "tags": []
   },
   "outputs": [
    {
     "data": {
      "text/plain": [
       "19239"
      ]
     },
     "execution_count": 8,
     "metadata": {},
     "output_type": "execute_result"
    }
   ],
   "source": [
    "len(df)"
   ]
  },
  {
   "cell_type": "code",
   "execution_count": 9,
   "id": "bad61676",
   "metadata": {
    "execution": {
     "iopub.execute_input": "2025-07-19T10:50:29.312443Z",
     "iopub.status.busy": "2025-07-19T10:50:29.312100Z",
     "iopub.status.idle": "2025-07-19T10:50:29.326967Z",
     "shell.execute_reply": "2025-07-19T10:50:29.325964Z"
    },
    "papermill": {
     "duration": 0.026281,
     "end_time": "2025-07-19T10:50:29.328502",
     "exception": false,
     "start_time": "2025-07-19T10:50:29.302221",
     "status": "completed"
    },
    "tags": []
   },
   "outputs": [
    {
     "name": "stdout",
     "output_type": "stream",
     "text": [
      "<class 'pandas.core.frame.DataFrame'>\n",
      "RangeIndex: 19239 entries, 0 to 19238\n",
      "Data columns (total 8 columns):\n",
      " #   Column                Non-Null Count  Dtype  \n",
      "---  ------                --------------  -----  \n",
      " 0   Order Number          19239 non-null  int64  \n",
      " 1   Order Status          19239 non-null  object \n",
      " 2   Book Name             19237 non-null  object \n",
      " 3   Order Date & Time     19239 non-null  object \n",
      " 4   City                  19238 non-null  object \n",
      " 5   Payment Method        19229 non-null  object \n",
      " 6   Total items           19239 non-null  int64  \n",
      " 7   Total weight (grams)  19239 non-null  float64\n",
      "dtypes: float64(1), int64(2), object(5)\n",
      "memory usage: 1.2+ MB\n"
     ]
    }
   ],
   "source": [
    "df.info()"
   ]
  },
  {
   "cell_type": "markdown",
   "id": "af889a72",
   "metadata": {
    "papermill": {
     "duration": 0.00869,
     "end_time": "2025-07-19T10:50:29.346229",
     "exception": false,
     "start_time": "2025-07-19T10:50:29.337539",
     "status": "completed"
    },
    "tags": []
   },
   "source": [
    "**7. Highest and lowest Weights of Books**"
   ]
  },
  {
   "cell_type": "code",
   "execution_count": 10,
   "id": "b342b2d3",
   "metadata": {
    "execution": {
     "iopub.execute_input": "2025-07-19T10:50:29.366358Z",
     "iopub.status.busy": "2025-07-19T10:50:29.366028Z",
     "iopub.status.idle": "2025-07-19T10:50:29.371554Z",
     "shell.execute_reply": "2025-07-19T10:50:29.370719Z"
    },
    "papermill": {
     "duration": 0.016839,
     "end_time": "2025-07-19T10:50:29.372907",
     "exception": false,
     "start_time": "2025-07-19T10:50:29.356068",
     "status": "completed"
    },
    "tags": []
   },
   "outputs": [
    {
     "data": {
      "text/plain": [
       "Index(['Order Number', 'Order Status', 'Book Name', 'Order Date & Time',\n",
       "       'City', 'Payment Method', 'Total items', 'Total weight (grams)'],\n",
       "      dtype='object')"
      ]
     },
     "execution_count": 10,
     "metadata": {},
     "output_type": "execute_result"
    }
   ],
   "source": [
    "\n",
    "\n",
    "df.columns"
   ]
  },
  {
   "cell_type": "code",
   "execution_count": 11,
   "id": "238988e9",
   "metadata": {
    "execution": {
     "iopub.execute_input": "2025-07-19T10:50:29.392031Z",
     "iopub.status.busy": "2025-07-19T10:50:29.391728Z",
     "iopub.status.idle": "2025-07-19T10:50:29.397302Z",
     "shell.execute_reply": "2025-07-19T10:50:29.396568Z"
    },
    "papermill": {
     "duration": 0.016629,
     "end_time": "2025-07-19T10:50:29.398646",
     "exception": false,
     "start_time": "2025-07-19T10:50:29.382017",
     "status": "completed"
    },
    "tags": []
   },
   "outputs": [
    {
     "data": {
      "text/plain": [
       "200.0"
      ]
     },
     "execution_count": 11,
     "metadata": {},
     "output_type": "execute_result"
    }
   ],
   "source": [
    "df['Total weight (grams)'].min()"
   ]
  },
  {
   "cell_type": "code",
   "execution_count": 12,
   "id": "c51e27e0",
   "metadata": {
    "execution": {
     "iopub.execute_input": "2025-07-19T10:50:29.419338Z",
     "iopub.status.busy": "2025-07-19T10:50:29.418378Z",
     "iopub.status.idle": "2025-07-19T10:50:29.424396Z",
     "shell.execute_reply": "2025-07-19T10:50:29.423698Z"
    },
    "papermill": {
     "duration": 0.017928,
     "end_time": "2025-07-19T10:50:29.425844",
     "exception": false,
     "start_time": "2025-07-19T10:50:29.407916",
     "status": "completed"
    },
    "tags": []
   },
   "outputs": [
    {
     "data": {
      "text/plain": [
       "55000.0"
      ]
     },
     "execution_count": 12,
     "metadata": {},
     "output_type": "execute_result"
    }
   ],
   "source": [
    "df['Total weight (grams)'].max()"
   ]
  },
  {
   "cell_type": "markdown",
   "id": "e1a9c476",
   "metadata": {
    "papermill": {
     "duration": 0.008888,
     "end_time": "2025-07-19T10:50:29.443860",
     "exception": false,
     "start_time": "2025-07-19T10:50:29.434972",
     "status": "completed"
    },
    "tags": []
   },
   "source": [
    "**8. To quickly view **mean**, **median**, **standard deviation**, **min**, **max**, **count**, and percentiles for each column**"
   ]
  },
  {
   "cell_type": "code",
   "execution_count": 13,
   "id": "4eae0099",
   "metadata": {
    "execution": {
     "iopub.execute_input": "2025-07-19T10:50:29.463153Z",
     "iopub.status.busy": "2025-07-19T10:50:29.462874Z",
     "iopub.status.idle": "2025-07-19T10:50:29.479488Z",
     "shell.execute_reply": "2025-07-19T10:50:29.478705Z"
    },
    "papermill": {
     "duration": 0.028005,
     "end_time": "2025-07-19T10:50:29.480844",
     "exception": false,
     "start_time": "2025-07-19T10:50:29.452839",
     "status": "completed"
    },
    "tags": []
   },
   "outputs": [
    {
     "data": {
      "text/html": [
       "<div>\n",
       "<style scoped>\n",
       "    .dataframe tbody tr th:only-of-type {\n",
       "        vertical-align: middle;\n",
       "    }\n",
       "\n",
       "    .dataframe tbody tr th {\n",
       "        vertical-align: top;\n",
       "    }\n",
       "\n",
       "    .dataframe thead th {\n",
       "        text-align: right;\n",
       "    }\n",
       "</style>\n",
       "<table border=\"1\" class=\"dataframe\">\n",
       "  <thead>\n",
       "    <tr style=\"text-align: right;\">\n",
       "      <th></th>\n",
       "      <th>Order Number</th>\n",
       "      <th>Total items</th>\n",
       "      <th>Total weight (grams)</th>\n",
       "    </tr>\n",
       "  </thead>\n",
       "  <tbody>\n",
       "    <tr>\n",
       "      <th>count</th>\n",
       "      <td>19239.000000</td>\n",
       "      <td>19239.000000</td>\n",
       "      <td>19239.000000</td>\n",
       "    </tr>\n",
       "    <tr>\n",
       "      <th>mean</th>\n",
       "      <td>52535.780238</td>\n",
       "      <td>6.051874</td>\n",
       "      <td>363.749675</td>\n",
       "    </tr>\n",
       "    <tr>\n",
       "      <th>std</th>\n",
       "      <td>15835.761148</td>\n",
       "      <td>576.938452</td>\n",
       "      <td>834.097325</td>\n",
       "    </tr>\n",
       "    <tr>\n",
       "      <th>min</th>\n",
       "      <td>307.000000</td>\n",
       "      <td>0.000000</td>\n",
       "      <td>200.000000</td>\n",
       "    </tr>\n",
       "    <tr>\n",
       "      <th>25%</th>\n",
       "      <td>48064.500000</td>\n",
       "      <td>1.000000</td>\n",
       "      <td>200.000000</td>\n",
       "    </tr>\n",
       "    <tr>\n",
       "      <th>50%</th>\n",
       "      <td>56436.000000</td>\n",
       "      <td>1.000000</td>\n",
       "      <td>200.000000</td>\n",
       "    </tr>\n",
       "    <tr>\n",
       "      <th>75%</th>\n",
       "      <td>63779.500000</td>\n",
       "      <td>1.000000</td>\n",
       "      <td>500.000000</td>\n",
       "    </tr>\n",
       "    <tr>\n",
       "      <th>max</th>\n",
       "      <td>71420.000000</td>\n",
       "      <td>80022.000000</td>\n",
       "      <td>55000.000000</td>\n",
       "    </tr>\n",
       "  </tbody>\n",
       "</table>\n",
       "</div>"
      ],
      "text/plain": [
       "       Order Number   Total items  Total weight (grams)\n",
       "count  19239.000000  19239.000000          19239.000000\n",
       "mean   52535.780238      6.051874            363.749675\n",
       "std    15835.761148    576.938452            834.097325\n",
       "min      307.000000      0.000000            200.000000\n",
       "25%    48064.500000      1.000000            200.000000\n",
       "50%    56436.000000      1.000000            200.000000\n",
       "75%    63779.500000      1.000000            500.000000\n",
       "max    71420.000000  80022.000000          55000.000000"
      ]
     },
     "execution_count": 13,
     "metadata": {},
     "output_type": "execute_result"
    }
   ],
   "source": [
    "df.describe()"
   ]
  },
  {
   "cell_type": "code",
   "execution_count": 14,
   "id": "914b937b",
   "metadata": {
    "execution": {
     "iopub.execute_input": "2025-07-19T10:50:29.500803Z",
     "iopub.status.busy": "2025-07-19T10:50:29.500507Z",
     "iopub.status.idle": "2025-07-19T10:50:29.512989Z",
     "shell.execute_reply": "2025-07-19T10:50:29.512168Z"
    },
    "papermill": {
     "duration": 0.024186,
     "end_time": "2025-07-19T10:50:29.514392",
     "exception": false,
     "start_time": "2025-07-19T10:50:29.490206",
     "status": "completed"
    },
    "tags": []
   },
   "outputs": [
    {
     "data": {
      "text/html": [
       "<div>\n",
       "<style scoped>\n",
       "    .dataframe tbody tr th:only-of-type {\n",
       "        vertical-align: middle;\n",
       "    }\n",
       "\n",
       "    .dataframe tbody tr th {\n",
       "        vertical-align: top;\n",
       "    }\n",
       "\n",
       "    .dataframe thead th {\n",
       "        text-align: right;\n",
       "    }\n",
       "</style>\n",
       "<table border=\"1\" class=\"dataframe\">\n",
       "  <thead>\n",
       "    <tr style=\"text-align: right;\">\n",
       "      <th></th>\n",
       "      <th>City</th>\n",
       "      <th>Total_Orders</th>\n",
       "    </tr>\n",
       "  </thead>\n",
       "  <tbody>\n",
       "    <tr>\n",
       "      <th>0</th>\n",
       "      <td>Karachi</td>\n",
       "      <td>2332</td>\n",
       "    </tr>\n",
       "    <tr>\n",
       "      <th>1</th>\n",
       "      <td>Lahore</td>\n",
       "      <td>1993</td>\n",
       "    </tr>\n",
       "    <tr>\n",
       "      <th>2</th>\n",
       "      <td>Islamabad</td>\n",
       "      <td>859</td>\n",
       "    </tr>\n",
       "    <tr>\n",
       "      <th>3</th>\n",
       "      <td>Rawalpindi</td>\n",
       "      <td>645</td>\n",
       "    </tr>\n",
       "    <tr>\n",
       "      <th>4</th>\n",
       "      <td>Faisalabad</td>\n",
       "      <td>478</td>\n",
       "    </tr>\n",
       "    <tr>\n",
       "      <th>5</th>\n",
       "      <td>Peshawar</td>\n",
       "      <td>427</td>\n",
       "    </tr>\n",
       "    <tr>\n",
       "      <th>6</th>\n",
       "      <td>Multan</td>\n",
       "      <td>427</td>\n",
       "    </tr>\n",
       "    <tr>\n",
       "      <th>7</th>\n",
       "      <td>Gujranwala</td>\n",
       "      <td>262</td>\n",
       "    </tr>\n",
       "    <tr>\n",
       "      <th>8</th>\n",
       "      <td>karachi</td>\n",
       "      <td>253</td>\n",
       "    </tr>\n",
       "    <tr>\n",
       "      <th>9</th>\n",
       "      <td>Hyderabad</td>\n",
       "      <td>240</td>\n",
       "    </tr>\n",
       "  </tbody>\n",
       "</table>\n",
       "</div>"
      ],
      "text/plain": [
       "         City  Total_Orders\n",
       "0     Karachi          2332\n",
       "1      Lahore          1993\n",
       "2   Islamabad           859\n",
       "3  Rawalpindi           645\n",
       "4  Faisalabad           478\n",
       "5    Peshawar           427\n",
       "6      Multan           427\n",
       "7  Gujranwala           262\n",
       "8     karachi           253\n",
       "9   Hyderabad           240"
      ]
     },
     "execution_count": 14,
     "metadata": {},
     "output_type": "execute_result"
    }
   ],
   "source": [
    "\n",
    "# Count and reset index\n",
    "city_counts = df['City'].value_counts().reset_index(name='Total_Orders')\n",
    "city_counts.columns = ['City', 'Total_Orders']\n",
    "#city_count_Ghotki=\n",
    "# Show top 10 cities\n",
    "city_counts.head(10)\n"
   ]
  },
  {
   "cell_type": "markdown",
   "id": "c5761e65",
   "metadata": {
    "papermill": {
     "duration": 0.009192,
     "end_time": "2025-07-19T10:50:29.533248",
     "exception": false,
     "start_time": "2025-07-19T10:50:29.524056",
     "status": "completed"
    },
    "tags": []
   },
   "source": [
    "**9.Total Orders from City (\"Daharki\")**"
   ]
  },
  {
   "cell_type": "code",
   "execution_count": 15,
   "id": "6d44f2ed",
   "metadata": {
    "execution": {
     "iopub.execute_input": "2025-07-19T10:50:29.553771Z",
     "iopub.status.busy": "2025-07-19T10:50:29.553101Z",
     "iopub.status.idle": "2025-07-19T10:50:29.559786Z",
     "shell.execute_reply": "2025-07-19T10:50:29.558872Z"
    },
    "papermill": {
     "duration": 0.018238,
     "end_time": "2025-07-19T10:50:29.561080",
     "exception": false,
     "start_time": "2025-07-19T10:50:29.542842",
     "status": "completed"
    },
    "tags": []
   },
   "outputs": [
    {
     "name": "stdout",
     "output_type": "stream",
     "text": [
      "Total orders from Daharki: 2\n"
     ]
    }
   ],
   "source": [
    "Daharki_count = (df['City'] == 'daharki').sum()\n",
    "print(f\"Total orders from Daharki: {Daharki_count}\")\n"
   ]
  },
  {
   "cell_type": "markdown",
   "id": "255f77dc",
   "metadata": {
    "papermill": {
     "duration": 0.009063,
     "end_time": "2025-07-19T10:50:29.579749",
     "exception": false,
     "start_time": "2025-07-19T10:50:29.570686",
     "status": "completed"
    },
    "tags": []
   },
   "source": [
    "**10. Most‑Selling Book and Its Total Orders**"
   ]
  },
  {
   "cell_type": "markdown",
   "id": "f554c243",
   "metadata": {
    "papermill": {
     "duration": 0.008985,
     "end_time": "2025-07-19T10:50:29.598066",
     "exception": false,
     "start_time": "2025-07-19T10:50:29.589081",
     "status": "completed"
    },
    "tags": []
   },
   "source": [
    "### 📚 Most Selling Book\n",
    "\n",
    "This analysis identifies the **top-selling book** based on the number of times each book appears in the orders.\n",
    "\n",
    "### Steps Performed:\n",
    "- Counted the occurrences of each book using `value_counts()`.\n",
    "- Retrieved the book with the **highest count** using `.idxmax()` and `.max()`."
   ]
  },
  {
   "cell_type": "code",
   "execution_count": 16,
   "id": "2ba00e11",
   "metadata": {
    "execution": {
     "iopub.execute_input": "2025-07-19T10:50:29.618172Z",
     "iopub.status.busy": "2025-07-19T10:50:29.617882Z",
     "iopub.status.idle": "2025-07-19T10:50:29.626659Z",
     "shell.execute_reply": "2025-07-19T10:50:29.625695Z"
    },
    "papermill": {
     "duration": 0.020364,
     "end_time": "2025-07-19T10:50:29.627920",
     "exception": false,
     "start_time": "2025-07-19T10:50:29.607556",
     "status": "completed"
    },
    "tags": []
   },
   "outputs": [
    {
     "name": "stdout",
     "output_type": "stream",
     "text": [
      "Most selling book: انٹرنیٹ سے پیسہ کمائیں  2579 orders\n"
     ]
    }
   ],
   "source": [
    "book_counts = df['Book Name'].value_counts()\n",
    "# Get the top-selling book and its total count\n",
    "\n",
    "most_sell_book = book_counts.idxmax()   # the name of the top book\n",
    "most_sell_count = book_counts.max()     # how many times it was ordered\n",
    "\n",
    "print(f\"Most selling book: {most_sell_book}  {most_sell_count} orders\")"
   ]
  },
  {
   "cell_type": "code",
   "execution_count": 17,
   "id": "fdcd3f01",
   "metadata": {
    "execution": {
     "iopub.execute_input": "2025-07-19T10:50:29.648487Z",
     "iopub.status.busy": "2025-07-19T10:50:29.648140Z",
     "iopub.status.idle": "2025-07-19T10:50:29.658776Z",
     "shell.execute_reply": "2025-07-19T10:50:29.657721Z"
    },
    "papermill": {
     "duration": 0.02247,
     "end_time": "2025-07-19T10:50:29.660170",
     "exception": false,
     "start_time": "2025-07-19T10:50:29.637700",
     "status": "completed"
    },
    "tags": []
   },
   "outputs": [
    {
     "name": "stdout",
     "output_type": "stream",
     "text": [
      "                                Book Name  count\n",
      "0                  انٹرنیٹ سے پیسہ کمائیں   2579\n",
      "1                      Python Programming   1540\n",
      "2  Blockchain, Cryptocurrency And Bitcoin   1067\n",
      "3                      Product Management   1041\n",
      "4                 Artificial Intelligence    900\n"
     ]
    }
   ],
   "source": [
    "# Top 5 Most sellinng books\n",
    "top_books = df['Book Name'].value_counts().head(5).reset_index()\n",
    "top_books_columns = ['Book Name','Total Orders']\n",
    "print(top_books)"
   ]
  },
  {
   "cell_type": "markdown",
   "id": "eec8e873",
   "metadata": {
    "papermill": {
     "duration": 0.009396,
     "end_time": "2025-07-19T10:50:29.679463",
     "exception": false,
     "start_time": "2025-07-19T10:50:29.670067",
     "status": "completed"
    },
    "tags": []
   },
   "source": []
  },
  {
   "cell_type": "code",
   "execution_count": 18,
   "id": "d5002aba",
   "metadata": {
    "execution": {
     "iopub.execute_input": "2025-07-19T10:50:29.700106Z",
     "iopub.status.busy": "2025-07-19T10:50:29.699596Z",
     "iopub.status.idle": "2025-07-19T10:50:29.704834Z",
     "shell.execute_reply": "2025-07-19T10:50:29.704049Z"
    },
    "papermill": {
     "duration": 0.01699,
     "end_time": "2025-07-19T10:50:29.706084",
     "exception": false,
     "start_time": "2025-07-19T10:50:29.689094",
     "status": "completed"
    },
    "tags": []
   },
   "outputs": [
    {
     "data": {
      "text/plain": [
       "(19239, 8)"
      ]
     },
     "execution_count": 18,
     "metadata": {},
     "output_type": "execute_result"
    }
   ],
   "source": [
    "df.shape"
   ]
  },
  {
   "cell_type": "markdown",
   "id": "47a709b9",
   "metadata": {
    "papermill": {
     "duration": 0.009611,
     "end_time": "2025-07-19T10:50:29.725586",
     "exception": false,
     "start_time": "2025-07-19T10:50:29.715975",
     "status": "completed"
    },
    "tags": []
   },
   "source": [
    "**11. Monthly orders Over the time**"
   ]
  },
  {
   "cell_type": "markdown",
   "id": "766289fa",
   "metadata": {
    "papermill": {
     "duration": 0.009429,
     "end_time": "2025-07-19T10:50:29.744813",
     "exception": false,
     "start_time": "2025-07-19T10:50:29.735384",
     "status": "completed"
    },
    "tags": []
   },
   "source": [
    "### Monthly Order Trend\n",
    "\n",
    "This analysis explores the **number of orders placed each month**, helping to identify seasonal trends or monthly growth.\n",
    "\n",
    "### Steps Performed:\n",
    "- Converted `Order Date & Time` to proper datetime format.\n",
    "- Extracted the **month period** from the datetime.\n",
    "- Counted the number of orders per month using `groupby()`.\n",
    "- Plotted a **line chart** to visualize the trend over time."
   ]
  },
  {
   "cell_type": "code",
   "execution_count": 19,
   "id": "6eb219e9",
   "metadata": {
    "execution": {
     "iopub.execute_input": "2025-07-19T10:50:29.765921Z",
     "iopub.status.busy": "2025-07-19T10:50:29.764998Z",
     "iopub.status.idle": "2025-07-19T10:50:30.292653Z",
     "shell.execute_reply": "2025-07-19T10:50:30.291808Z"
    },
    "papermill": {
     "duration": 0.53957,
     "end_time": "2025-07-19T10:50:30.294003",
     "exception": false,
     "start_time": "2025-07-19T10:50:29.754433",
     "status": "completed"
    },
    "tags": []
   },
   "outputs": [
    {
     "data": {
      "text/plain": [
       "<Axes: title={'center': 'Monthly Order Trend'}, xlabel='Month'>"
      ]
     },
     "execution_count": 19,
     "metadata": {},
     "output_type": "execute_result"
    },
    {
     "data": {
      "image/png": "[encoded data removed]",
      "text/plain": [
       "<Figure size 640x480 with 1 Axes>"
      ]
     },
     "metadata": {},
     "output_type": "display_data"
    }
   ],
   "source": [
    "# proper datetime\n",
    "df['Order Date & Time'] = pd.to_datetime(df['Order Date & Time'])\n",
    "\n",
    "#month\n",
    "df['Month'] = df['Order Date & Time'].dt.to_period('M')\n",
    "\n",
    "#Count \n",
    "monthly_orders = df.groupby('Month')['Order Number'].count()\n",
    "\n",
    "#Plot it\n",
    "monthly_orders.plot(kind='line', title='Monthly Order Trend')\n"
   ]
  },
  {
   "cell_type": "markdown",
   "id": "a123f815",
   "metadata": {
    "papermill": {
     "duration": 0.01044,
     "end_time": "2025-07-19T10:50:30.315433",
     "exception": false,
     "start_time": "2025-07-19T10:50:30.304993",
     "status": "completed"
    },
    "tags": []
   },
   "source": [
    "### Data Cleaning and Export\n",
    "\n",
    "This step ensures that the dataset is properly loaded and saved with the correct encoding for future use.\n",
    "\n",
    "### Steps Performed:\n",
    "- Loaded the dataset using `read_csv()` from the provided file path.\n",
    "- Exported the same dataset to a new CSV file with **UTF-8 with BOM (`utf-8-sig`) encoding**, which helps avoid character encoding issues when opening in Excel or other programs.\n",
    "- Disabled the index while saving to keep the file clean."
   ]
  },
  {
   "cell_type": "code",
   "execution_count": 20,
   "id": "0610ca3d",
   "metadata": {
    "execution": {
     "iopub.execute_input": "2025-07-19T10:50:30.338231Z",
     "iopub.status.busy": "2025-07-19T10:50:30.337485Z",
     "iopub.status.idle": "2025-07-19T10:50:30.509721Z",
     "shell.execute_reply": "2025-07-19T10:50:30.508779Z"
    },
    "papermill": {
     "duration": 0.185167,
     "end_time": "2025-07-19T10:50:30.511122",
     "exception": false,
     "start_time": "2025-07-19T10:50:30.325955",
     "status": "completed"
    },
    "tags": []
   },
   "outputs": [
    {
     "name": "stdout",
     "output_type": "stream",
     "text": [
      "Data cleaned and saved successfully!\n"
     ]
    }
   ],
   "source": [
    "\n",
    "df = pd.read_csv('/kaggle/input/gufhtugu-publications-dataset-challenge/GP Orders - 5.csv')\n",
    "df.to_csv('GP Orders - 5.csv', index=False, encoding='utf-8-sig')\n",
    "\n",
    "\n",
    "print(\"Data cleaned and saved successfully!\")\n"
   ]
  },
  {
   "cell_type": "markdown",
   "id": "73af7475",
   "metadata": {
    "papermill": {
     "duration": 0.010207,
     "end_time": "2025-07-19T10:50:30.532117",
     "exception": false,
     "start_time": "2025-07-19T10:50:30.521910",
     "status": "completed"
    },
    "tags": []
   },
   "source": [
    "# Orders Over Time\n",
    "\n",
    "This analysis visualizes the **daily number of orders** to understand trends over time.\n",
    "\n",
    "### Steps Performed:\n",
    "- Converted the `Order Date & Time` column to datetime format.\n",
    "- Grouped the data by **date only** (excluding time) to count the number of orders per day.\n",
    "- Plotted a **line chart** to show daily order frequency."
   ]
  },
  {
   "cell_type": "code",
   "execution_count": 21,
   "id": "1552ccb4",
   "metadata": {
    "execution": {
     "iopub.execute_input": "2025-07-19T10:50:30.554833Z",
     "iopub.status.busy": "2025-07-19T10:50:30.554030Z",
     "iopub.status.idle": "2025-07-19T10:50:30.852694Z",
     "shell.execute_reply": "2025-07-19T10:50:30.851834Z"
    },
    "papermill": {
     "duration": 0.312158,
     "end_time": "2025-07-19T10:50:30.854753",
     "exception": false,
     "start_time": "2025-07-19T10:50:30.542595",
     "status": "completed"
    },
    "tags": []
   },
   "outputs": [
    {
     "data": {
      "image/png": "[encoded data removed]",
      "text/plain": [
       "<Figure size 1000x500 with 1 Axes>"
      ]
     },
     "metadata": {},
     "output_type": "display_data"
    }
   ],
   "source": [
    "import pandas as pd\n",
    "import matplotlib.pyplot as plt \n",
    "\n",
    "# Assuming 'df' is already defined and contains a column 'Order Date & Time'\n",
    "df['Order Date & Time'] = pd.to_datetime(df['Order Date & Time'])  # Convert to datetime\n",
    "orders_per_day = df.groupby(df['Order Date & Time'].dt.date).size()  # Group by date\n",
    "\n",
    "# Plotting\n",
    "orders_per_day.plot(kind='line', title='Orders Over Time', ylabel='Number of Orders', xlabel='Date', figsize=(10, 5))\n",
    "plt.grid()\n",
    "plt.show()\n"
   ]
  },
  {
   "cell_type": "markdown",
   "id": "00916f90",
   "metadata": {
    "papermill": {
     "duration": 0.01199,
     "end_time": "2025-07-19T10:50:30.879197",
     "exception": false,
     "start_time": "2025-07-19T10:50:30.867207",
     "status": "completed"
    },
    "tags": []
   },
   "source": [
    "## Payment Method Usage\n",
    "\n",
    "This visualization displays the **distribution of payment methods** used by customers.\n",
    "\n",
    "### Steps Performed:\n",
    "- Counted how many times each payment method was used in the `Payment Method` column.\n",
    "- Plotted a **vertical bar chart** to represent the frequency of each method.\n"
   ]
  },
  {
   "cell_type": "code",
   "execution_count": 22,
   "id": "c9300a42",
   "metadata": {
    "execution": {
     "iopub.execute_input": "2025-07-19T10:50:30.904773Z",
     "iopub.status.busy": "2025-07-19T10:50:30.904478Z",
     "iopub.status.idle": "2025-07-19T10:50:31.083171Z",
     "shell.execute_reply": "2025-07-19T10:50:31.082352Z"
    },
    "papermill": {
     "duration": 0.193509,
     "end_time": "2025-07-19T10:50:31.084883",
     "exception": false,
     "start_time": "2025-07-19T10:50:30.891374",
     "status": "completed"
    },
    "tags": []
   },
   "outputs": [
    {
     "data": {
      "image/png": "[encoded data removed]",
      "text/plain": [
       "<Figure size 800x500 with 1 Axes>"
      ]
     },
     "metadata": {},
     "output_type": "display_data"
    }
   ],
   "source": [
    "df['Payment Method'].value_counts().plot(kind='bar', title='Payment Method Usage', xlabel='Payment Method', ylabel='Number of Orders', figsize=(8, 5), color='skyblue')\n",
    "plt.xticks(rotation=45)\n",
    "plt.grid(axis='y')\n",
    "plt.show()\n"
   ]
  },
  {
   "cell_type": "markdown",
   "id": "1b8bc35b",
   "metadata": {
    "papermill": {
     "duration": 0.012826,
     "end_time": "2025-07-19T10:50:31.111976",
     "exception": false,
     "start_time": "2025-07-19T10:50:31.099150",
     "status": "completed"
    },
    "tags": []
   },
   "source": [
    " ## Top 10 Cities by Order Count\n",
    "\n",
    "This analysis highlights the **top 10 cities** with the highest number of orders using a horizontal bar chart.\n",
    "\n",
    "###  Steps Performed:\n",
    "- Counted the number of orders for each city using `value_counts()`.\n",
    "- Selected the **top 10 cities** based on order count.\n",
    "- Plotted a **horizontal bar chart** and inverted the y-axis to show the highest at the top."
   ]
  },
  {
   "cell_type": "code",
   "execution_count": 23,
   "id": "c46556a8",
   "metadata": {
    "execution": {
     "iopub.execute_input": "2025-07-19T10:50:31.139603Z",
     "iopub.status.busy": "2025-07-19T10:50:31.139275Z",
     "iopub.status.idle": "2025-07-19T10:50:31.316137Z",
     "shell.execute_reply": "2025-07-19T10:50:31.315327Z"
    },
    "papermill": {
     "duration": 0.192496,
     "end_time": "2025-07-19T10:50:31.317557",
     "exception": false,
     "start_time": "2025-07-19T10:50:31.125061",
     "status": "completed"
    },
    "tags": []
   },
   "outputs": [
    {
     "data": {
      "image/png": "[encoded data removed]",
      "text/plain": [
       "<Figure size 640x480 with 1 Axes>"
      ]
     },
     "metadata": {},
     "output_type": "display_data"
    }
   ],
   "source": [
    "df['City'].value_counts().head(10).plot(kind='barh', title='Top 10 Cities by Order Count', color='green')\n",
    "plt.xlabel('Number of Orders')\n",
    "plt.gca().invert_yaxis()\n",
    "plt.grid(axis='x')\n",
    "plt.show()\n"
   ]
  },
  {
   "cell_type": "markdown",
   "id": "804c1bcc",
   "metadata": {
    "papermill": {
     "duration": 0.013669,
     "end_time": "2025-07-19T10:50:31.345673",
     "exception": false,
     "start_time": "2025-07-19T10:50:31.332004",
     "status": "completed"
    },
    "tags": []
   },
   "source": [
    "##  Order Status Distribution\n",
    "\n",
    "This analysis visualizes the **distribution of order statuses** as a pie chart.\n",
    "\n",
    "###  Steps Performed:\n",
    "- Counted the occurrences of each category in the `Order Status` column using `value_counts()`.\n",
    "- Plotted a **pie chart** with percentage labels."
   ]
  },
  {
   "cell_type": "code",
   "execution_count": 24,
   "id": "3c1351ba",
   "metadata": {
    "execution": {
     "iopub.execute_input": "2025-07-19T10:50:31.375406Z",
     "iopub.status.busy": "2025-07-19T10:50:31.374799Z",
     "iopub.status.idle": "2025-07-19T10:50:31.504702Z",
     "shell.execute_reply": "2025-07-19T10:50:31.503742Z"
    },
    "papermill": {
     "duration": 0.146245,
     "end_time": "2025-07-19T10:50:31.506257",
     "exception": false,
     "start_time": "2025-07-19T10:50:31.360012",
     "status": "completed"
    },
    "tags": []
   },
   "outputs": [
    {
     "data": {
      "image/png": "[encoded data removed]",
      "text/plain": [
       "<Figure size 600x600 with 1 Axes>"
      ]
     },
     "metadata": {},
     "output_type": "display_data"
    }
   ],
   "source": [
    "df['Order Status'].value_counts().plot(kind='pie', autopct='%1.1f%%', title='Order Status Distribution', figsize=(6, 6))\n",
    "plt.ylabel('')\n",
    "plt.show()\n"
   ]
  },
  {
   "cell_type": "markdown",
   "id": "e0b1dddd",
   "metadata": {
    "papermill": {
     "duration": 0.01483,
     "end_time": "2025-07-19T10:50:31.537446",
     "exception": false,
     "start_time": "2025-07-19T10:50:31.522616",
     "status": "completed"
    },
    "tags": []
   },
   "source": []
  },
  {
   "cell_type": "markdown",
   "id": "4385b46f",
   "metadata": {
    "papermill": {
     "duration": 0.014638,
     "end_time": "2025-07-19T10:50:31.567149",
     "exception": false,
     "start_time": "2025-07-19T10:50:31.552511",
     "status": "completed"
    },
    "tags": []
   },
   "source": [
    "### Average Items Per Order Per Day\n",
    "\n",
    "This analysis visualizes the **average number of items per order** for each day using the `Order Date & Time` and `Total items` columns from the dataset.\n",
    "\n",
    "###   Steps Performed:\n",
    "- Converted the `Order Date & Time` column to datetime format.\n",
    "- Grouped the data by date and calculated the **average number of items** per day.\n",
    "- Plotted a **line chart** to show the daily trend."
   ]
  },
  {
   "cell_type": "code",
   "execution_count": 25,
   "id": "6541cf37",
   "metadata": {
    "execution": {
     "iopub.execute_input": "2025-07-19T10:50:31.598622Z",
     "iopub.status.busy": "2025-07-19T10:50:31.598231Z",
     "iopub.status.idle": "2025-07-19T10:50:31.850068Z",
     "shell.execute_reply": "2025-07-19T10:50:31.849161Z"
    },
    "papermill": {
     "duration": 0.269506,
     "end_time": "2025-07-19T10:50:31.851732",
     "exception": false,
     "start_time": "2025-07-19T10:50:31.582226",
     "status": "completed"
    },
    "tags": []
   },
   "outputs": [
    {
     "data": {
      "image/png": "[encoded data removed]",
      "text/plain": [
       "<Figure size 1000x500 with 1 Axes>"
      ]
     },
     "metadata": {},
     "output_type": "display_data"
    }
   ],
   "source": [
    "df['Order Date & Time'] = pd.to_datetime(df['Order Date & Time'])\n",
    "avg_items_per_day = df.groupby(df['Order Date & Time'].dt.date)['Total items'].mean()\n",
    "\n",
    "avg_items_per_day.plot(kind='line', title='Average Items Per Order Per Day', ylabel='Average Items', xlabel='Date', color='orange', figsize=(10, 5))\n",
    "plt.grid()\n",
    "plt.show()\n"
   ]
  },
  {
   "cell_type": "markdown",
   "id": "73936ab6",
   "metadata": {
    "papermill": {
     "duration": 0.015112,
     "end_time": "2025-07-19T10:50:31.883325",
     "exception": false,
     "start_time": "2025-07-19T10:50:31.868213",
     "status": "completed"
    },
    "tags": []
   },
   "source": [
    "##  Estimated Revenue Calculation Based on Weight\n",
    "\n",
    "To estimate the revenue from the dataset, we followed these steps:\n",
    "\n",
    "1. **Converted** the `Total weight (grams)` column to numeric, handling any non-numeric entries.\n",
    "2. **Assumed a price per gram** (e.g., Rs. 2/gram).\n",
    "3. **Calculated Estimated Revenue** for each order using the formula:\n",
    "\n"
   ]
  },
  {
   "cell_type": "code",
   "execution_count": 26,
   "id": "405c9edf",
   "metadata": {
    "execution": {
     "iopub.execute_input": "2025-07-19T10:50:31.915264Z",
     "iopub.status.busy": "2025-07-19T10:50:31.914958Z",
     "iopub.status.idle": "2025-07-19T10:50:31.922801Z",
     "shell.execute_reply": "2025-07-19T10:50:31.921795Z"
    },
    "papermill": {
     "duration": 0.025425,
     "end_time": "2025-07-19T10:50:31.924132",
     "exception": false,
     "start_time": "2025-07-19T10:50:31.898707",
     "status": "completed"
    },
    "tags": []
   },
   "outputs": [
    {
     "name": "stdout",
     "output_type": "stream",
     "text": [
      " Estimated Total Revenue: Rs. 13,996,360.00\n"
     ]
    }
   ],
   "source": [
    "\n",
    "# Convert weight column to numeric\n",
    "df['Total weight (grams)'] = pd.to_numeric(df['Total weight (grams)'], errors='coerce')\n",
    "\n",
    "#price per gram (we can change this rate)\n",
    "price_per_gram = 2  # Rs. 2 per gram (example)\n",
    "\n",
    "\n",
    "df['Estimated Revenue'] = df['Total weight (grams)'] * price_per_gram\n",
    "\n",
    "total_estimated_revenue = df['Estimated Revenue'].sum()\n",
    "print(f\" Estimated Total Revenue: Rs. {total_estimated_revenue:,.2f}\")\n"
   ]
  }
 ],
 "metadata": {
  "kaggle": {
   "accelerator": "none",
   "dataSources": [
    {
     "datasetId": 1111101,
     "sourceId": 1890525,
     "sourceType": "datasetVersion"
    }
   ],
   "dockerImageVersionId": 31089,
   "isGpuEnabled": false,
   "isInternetEnabled": false,
   "language": "python",
   "sourceType": "notebook"
  },
  "kernelspec": {
   "display_name": "Python 3",
   "language": "python",
   "name": "python3"
  },
  "language_info": {
   "codemirror_mode": {
    "name": "ipython",
    "version": 3
   },
   "file_extension": ".py",
   "mimetype": "text/x-python",
   "name": "python",
   "nbconvert_exporter": "python",
   "pygments_lexer": "ipython3",
   "version": "3.11.13"
  },
  "papermill": {
   "default_parameters": {},
   "duration": 68.272094,
   "end_time": "2025-07-19T10:50:33.062834",
   "environment_variables": {},
   "exception": null,
   "input_path": "__notebook__.ipynb",
   "output_path": "__notebook__.ipynb",
   "parameters": {},
   "start_time": "2025-07-19T10:49:24.790740",
   "version": "2.6.0"
  },
  "widgets": {
   "application/vnd.jupyter.widget-state+json": {
    "state": {
     "0a72e6fa302847c4928557e50261d733": {
      "model_module": "@jupyter-widgets/controls",
      "model_module_version": "2.0.0",
      "model_name": "HBoxModel",
      "state": {
       "_dom_classes": [],
       "_model_module": "@jupyter-widgets/controls",
       "_model_module_version": "2.0.0",
       "_model_name": "HBoxModel",
       "_view_count": null,
       "_view_module": "@jupyter-widgets/controls",
       "_view_module_version": "2.0.0",
       "_view_name": "HBoxView",
       "box_style": "",
       "children": [
        "IPY_MODEL_eaff08b1443d43afb20f278f90c94ad7",
        "IPY_MODEL_51438457f6254cd5be5d2eecf6643475",
        "IPY_MODEL_7863fe5a2bb84e2b8b34f0bcee230c46"
       ],
       "layout": "IPY_MODEL_1320dacb6c9a4ad19b046a40fbef0493",
       "tabbable": null,
       "tooltip": null
      }
     },
     "0c9543e0a417421e83d4a9d2d93a6b1d": {
      "model_module": "@jupyter-widgets/base",
      "model_module_version": "2.0.0",
      "model_name": "LayoutModel",
      "state": {
       "_model_module": "@jupyter-widgets/base",
       "_model_module_version": "2.0.0",
       "_model_name": "LayoutModel",
       "_view_count": null,
       "_view_module": "@jupyter-widgets/base",
       "_view_module_version": "2.0.0",
       "_view_name": "LayoutView",
       "align_content": null,
       "align_items": null,
       "align_self": null,
       "border_bottom": null,
       "border_left": null,
       "border_right": null,
       "border_top": null,
       "bottom": null,
       "display": null,
       "flex": null,
       "flex_flow": null,
       "grid_area": null,
       "grid_auto_columns": null,
       "grid_auto_flow": null,
       "grid_auto_rows": null,
       "grid_column": null,
       "grid_gap": null,
       "grid_row": null,
       "grid_template_areas": null,
       "grid_template_columns": null,
       "grid_template_rows": null,
       "height": null,
       "justify_content": null,
       "justify_items": null,
       "left": null,
       "margin": null,
       "max_height": null,
       "max_width": null,
       "min_height": null,
       "min_width": null,
       "object_fit": null,
       "object_position": null,
       "order": null,
       "overflow": null,
       "padding": null,
       "right": null,
       "top": null,
       "visibility": null,
       "width": null
      }
     },
     "12b7ef4a8dbc4ceb851b622a90d1e340": {
      "model_module": "@jupyter-widgets/controls",
      "model_module_version": "2.0.0",
      "model_name": "ProgressStyleModel",
      "state": {
       "_model_module": "@jupyter-widgets/controls",
       "_model_module_version": "2.0.0",
       "_model_name": "ProgressStyleModel",
       "_view_count": null,
       "_view_module": "@jupyter-widgets/base",
       "_view_module_version": "2.0.0",
       "_view_name": "StyleView",
       "bar_color": null,
       "description_width": ""
      }
     },
     "1320dacb6c9a4ad19b046a40fbef0493": {
      "model_module": "@jupyter-widgets/base",
      "model_module_version": "2.0.0",
      "model_name": "LayoutModel",
      "state": {
       "_model_module": "@jupyter-widgets/base",
       "_model_module_version": "2.0.0",
       "_model_name": "LayoutModel",
       "_view_count": null,
       "_view_module": "@jupyter-widgets/base",
       "_view_module_version": "2.0.0",
       "_view_name": "LayoutView",
       "align_content": null,
       "align_items": null,
       "align_self": null,
       "border_bottom": null,
       "border_left": null,
       "border_right": null,
       "border_top": null,
       "bottom": null,
       "display": null,
       "flex": null,
       "flex_flow": null,
       "grid_area": null,
       "grid_auto_columns": null,
       "grid_auto_flow": null,
       "grid_auto_rows": null,
       "grid_column": null,
       "grid_gap": null,
       "grid_row": null,
       "grid_template_areas": null,
       "grid_template_columns": null,
       "grid_template_rows": null,
       "height": null,
       "justify_content": null,
       "justify_items": null,
       "left": null,
       "margin": null,
       "max_height": null,
       "max_width": null,
       "min_height": null,
       "min_width": null,
       "object_fit": null,
       "object_position": null,
       "order": null,
       "overflow": null,
       "padding": null,
       "right": null,
       "top": null,
       "visibility": null,
       "width": null
      }
     },
     "1586687d64e7466f876b50128277dc06": {
      "model_module": "@jupyter-widgets/controls",
      "model_module_version": "2.0.0",
      "model_name": "FloatProgressModel",
      "state": {
       "_dom_classes": [],
       "_model_module": "@jupyter-widgets/controls",
       "_model_module_version": "2.0.0",
       "_model_name": "FloatProgressModel",
       "_view_count": null,
       "_view_module": "@jupyter-widgets/controls",
       "_view_module_version": "2.0.0",
       "_view_name": "ProgressView",
       "bar_style": "success",
       "description": "",
       "description_allow_html": false,
       "layout": "IPY_MODEL_472313e4b8204c10b7181f572b4559c9",
       "max": 1.0,
       "min": 0.0,
       "orientation": "horizontal",
       "style": "IPY_MODEL_4232497c71c848889bcaf698e6788529",
       "tabbable": null,
       "tooltip": null,
       "value": 1.0
      }
     },
     "18c483db383f42849220ff5a711c416c": {
      "model_module": "@jupyter-widgets/controls",
      "model_module_version": "2.0.0",
      "model_name": "HTMLModel",
      "state": {
       "_dom_classes": [],
       "_model_module": "@jupyter-widgets/controls",
       "_model_module_version": "2.0.0",
       "_model_name": "HTMLModel",
       "_view_count": null,
       "_view_module": "@jupyter-widgets/controls",
       "_view_module_version": "2.0.0",
       "_view_name": "HTMLView",
       "description": "",
       "description_allow_html": false,
       "layout": "IPY_MODEL_63860e0a4d894de8899c35b4637bcb4d",
       "placeholder": "​",
       "style": "IPY_MODEL_665c0f5936f646c19ef0d5a3850c8d9f",
       "tabbable": null,
       "tooltip": null,
       "value": " 1/1 [00:04&lt;00:00,  4.56s/it]"
      }
     },
     "1ecbc020bd214fdbaa373f09b7112d2c": {
      "model_module": "@jupyter-widgets/controls",
      "model_module_version": "2.0.0",
      "model_name": "HTMLStyleModel",
      "state": {
       "_model_module": "@jupyter-widgets/controls",
       "_model_module_version": "2.0.0",
       "_model_name": "HTMLStyleModel",
       "_view_count": null,
       "_view_module": "@jupyter-widgets/base",
       "_view_module_version": "2.0.0",
       "_view_name": "StyleView",
       "background": null,
       "description_width": "",
       "font_size": null,
       "text_color": null
      }
     },
     "20b10167d022482093f166b3008ca709": {
      "model_module": "@jupyter-widgets/base",
      "model_module_version": "2.0.0",
      "model_name": "LayoutModel",
      "state": {
       "_model_module": "@jupyter-widgets/base",
       "_model_module_version": "2.0.0",
       "_model_name": "LayoutModel",
       "_view_count": null,
       "_view_module": "@jupyter-widgets/base",
       "_view_module_version": "2.0.0",
       "_view_name": "LayoutView",
       "align_content": null,
       "align_items": null,
       "align_self": null,
       "border_bottom": null,
       "border_left": null,
       "border_right": null,
       "border_top": null,
       "bottom": null,
       "display": null,
       "flex": null,
       "flex_flow": null,
       "grid_area": null,
       "grid_auto_columns": null,
       "grid_auto_flow": null,
       "grid_auto_rows": null,
       "grid_column": null,
       "grid_gap": null,
       "grid_row": null,
       "grid_template_areas": null,
       "grid_template_columns": null,
       "grid_template_rows": null,
       "height": null,
       "justify_content": null,
       "justify_items": null,
       "left": null,
       "margin": null,
       "max_height": null,
       "max_width": null,
       "min_height": null,
       "min_width": null,
       "object_fit": null,
       "object_position": null,
       "order": null,
       "overflow": null,
       "padding": null,
       "right": null,
       "top": null,
       "visibility": null,
       "width": null
      }
     },
     "21ff4097176f425a912ffdaa50fce5e2": {
      "model_module": "@jupyter-widgets/base",
      "model_module_version": "2.0.0",
      "model_name": "LayoutModel",
      "state": {
       "_model_module": "@jupyter-widgets/base",
       "_model_module_version": "2.0.0",
       "_model_name": "LayoutModel",
       "_view_count": null,
       "_view_module": "@jupyter-widgets/base",
       "_view_module_version": "2.0.0",
       "_view_name": "LayoutView",
       "align_content": null,
       "align_items": null,
       "align_self": null,
       "border_bottom": null,
       "border_left": null,
       "border_right": null,
       "border_top": null,
       "bottom": null,
       "display": null,
       "flex": null,
       "flex_flow": null,
       "grid_area": null,
       "grid_auto_columns": null,
       "grid_auto_flow": null,
       "grid_auto_rows": null,
       "grid_column": null,
       "grid_gap": null,
       "grid_row": null,
       "grid_template_areas": null,
       "grid_template_columns": null,
       "grid_template_rows": null,
       "height": null,
       "justify_content": null,
       "justify_items": null,
       "left": null,
       "margin": null,
       "max_height": null,
       "max_width": null,
       "min_height": null,
       "min_width": null,
       "object_fit": null,
       "object_position": null,
       "order": null,
       "overflow": null,
       "padding": null,
       "right": null,
       "top": null,
       "visibility": null,
       "width": null
      }
     },
     "360e21b3418142039e954cd2edc67393": {
      "model_module": "@jupyter-widgets/base",
      "model_module_version": "2.0.0",
      "model_name": "LayoutModel",
      "state": {
       "_model_module": "@jupyter-widgets/base",
       "_model_module_version": "2.0.0",
       "_model_name": "LayoutModel",
       "_view_count": null,
       "_view_module": "@jupyter-widgets/base",
       "_view_module_version": "2.0.0",
       "_view_name": "LayoutView",
       "align_content": null,
       "align_items": null,
       "align_self": null,
       "border_bottom": null,
       "border_left": null,
       "border_right": null,
       "border_top": null,
       "bottom": null,
       "display": null,
       "flex": null,
       "flex_flow": null,
       "grid_area": null,
       "grid_auto_columns": null,
       "grid_auto_flow": null,
       "grid_auto_rows": null,
       "grid_column": null,
       "grid_gap": null,
       "grid_row": null,
       "grid_template_areas": null,
       "grid_template_columns": null,
       "grid_template_rows": null,
       "height": null,
       "justify_content": null,
       "justify_items": null,
       "left": null,
       "margin": null,
       "max_height": null,
       "max_width": null,
       "min_height": null,
       "min_width": null,
       "object_fit": null,
       "object_position": null,
       "order": null,
       "overflow": null,
       "padding": null,
       "right": null,
       "top": null,
       "visibility": null,
       "width": null
      }
     },
     "3e08cef085324c5e8980c2ed918a2cbe": {
      "model_module": "@jupyter-widgets/controls",
      "model_module_version": "2.0.0",
      "model_name": "HTMLModel",
      "state": {
       "_dom_classes": [],
       "_model_module": "@jupyter-widgets/controls",
       "_model_module_version": "2.0.0",
       "_model_name": "HTMLModel",
       "_view_count": null,
       "_view_module": "@jupyter-widgets/controls",
       "_view_module_version": "2.0.0",
       "_view_name": "HTMLView",
       "description": "",
       "description_allow_html": false,
       "layout": "IPY_MODEL_a5147c0241cb44b98039a1e81b7c5af2",
       "placeholder": "​",
       "style": "IPY_MODEL_ff050b2c7f1e4132816e6d08e115c916",
       "tabbable": null,
       "tooltip": null,
       "value": "Render HTML: 100%"
      }
     },
     "3f47785386c645c3adb7a540ece4ac2c": {
      "model_module": "@jupyter-widgets/controls",
      "model_module_version": "2.0.0",
      "model_name": "FloatProgressModel",
      "state": {
       "_dom_classes": [],
       "_model_module": "@jupyter-widgets/controls",
       "_model_module_version": "2.0.0",
       "_model_name": "FloatProgressModel",
       "_view_count": null,
       "_view_module": "@jupyter-widgets/controls",
       "_view_module_version": "2.0.0",
       "_view_name": "ProgressView",
       "bar_style": "success",
       "description": "",
       "description_allow_html": false,
       "layout": "IPY_MODEL_5231e64200224f97aaa2c2ad0afabfa5",
       "max": 1.0,
       "min": 0.0,
       "orientation": "horizontal",
       "style": "IPY_MODEL_7df4495ae7914b298f30da7ad56558d6",
       "tabbable": null,
       "tooltip": null,
       "value": 1.0
      }
     },
     "4232497c71c848889bcaf698e6788529": {
      "model_module": "@jupyter-widgets/controls",
      "model_module_version": "2.0.0",
      "model_name": "ProgressStyleModel",
      "state": {
       "_model_module": "@jupyter-widgets/controls",
       "_model_module_version": "2.0.0",
       "_model_name": "ProgressStyleModel",
       "_view_count": null,
       "_view_module": "@jupyter-widgets/base",
       "_view_module_version": "2.0.0",
       "_view_name": "StyleView",
       "bar_color": null,
       "description_width": ""
      }
     },
     "472313e4b8204c10b7181f572b4559c9": {
      "model_module": "@jupyter-widgets/base",
      "model_module_version": "2.0.0",
      "model_name": "LayoutModel",
      "state": {
       "_model_module": "@jupyter-widgets/base",
       "_model_module_version": "2.0.0",
       "_model_name": "LayoutModel",
       "_view_count": null,
       "_view_module": "@jupyter-widgets/base",
       "_view_module_version": "2.0.0",
       "_view_name": "LayoutView",
       "align_content": null,
       "align_items": null,
       "align_self": null,
       "border_bottom": null,
       "border_left": null,
       "border_right": null,
       "border_top": null,
       "bottom": null,
       "display": null,
       "flex": null,
       "flex_flow": null,
       "grid_area": null,
       "grid_auto_columns": null,
       "grid_auto_flow": null,
       "grid_auto_rows": null,
       "grid_column": null,
       "grid_gap": null,
       "grid_row": null,
       "grid_template_areas": null,
       "grid_template_columns": null,
       "grid_template_rows": null,
       "height": null,
       "justify_content": null,
       "justify_items": null,
       "left": null,
       "margin": null,
       "max_height": null,
       "max_width": null,
       "min_height": null,
       "min_width": null,
       "object_fit": null,
       "object_position": null,
       "order": null,
       "overflow": null,
       "padding": null,
       "right": null,
       "top": null,
       "visibility": null,
       "width": null
      }
     },
     "51438457f6254cd5be5d2eecf6643475": {
      "model_module": "@jupyter-widgets/controls",
      "model_module_version": "2.0.0",
      "model_name": "FloatProgressModel",
      "state": {
       "_dom_classes": [],
       "_model_module": "@jupyter-widgets/controls",
       "_model_module_version": "2.0.0",
       "_model_name": "FloatProgressModel",
       "_view_count": null,
       "_view_module": "@jupyter-widgets/controls",
       "_view_module_version": "2.0.0",
       "_view_name": "ProgressView",
       "bar_style": "success",
       "description": "",
       "description_allow_html": false,
       "layout": "IPY_MODEL_21ff4097176f425a912ffdaa50fce5e2",
       "max": 5.0,
       "min": 0.0,
       "orientation": "horizontal",
       "style": "IPY_MODEL_b24d3ba4c0a847f08f2452a7b88f8721",
       "tabbable": null,
       "tooltip": null,
       "value": 5.0
      }
     },
     "5231e64200224f97aaa2c2ad0afabfa5": {
      "model_module": "@jupyter-widgets/base",
      "model_module_version": "2.0.0",
      "model_name": "LayoutModel",
      "state": {
       "_model_module": "@jupyter-widgets/base",
       "_model_module_version": "2.0.0",
       "_model_name": "LayoutModel",
       "_view_count": null,
       "_view_module": "@jupyter-widgets/base",
       "_view_module_version": "2.0.0",
       "_view_name": "LayoutView",
       "align_content": null,
       "align_items": null,
       "align_self": null,
       "border_bottom": null,
       "border_left": null,
       "border_right": null,
       "border_top": null,
       "bottom": null,
       "display": null,
       "flex": null,
       "flex_flow": null,
       "grid_area": null,
       "grid_auto_columns": null,
       "grid_auto_flow": null,
       "grid_auto_rows": null,
       "grid_column": null,
       "grid_gap": null,
       "grid_row": null,
       "grid_template_areas": null,
       "grid_template_columns": null,
       "grid_template_rows": null,
       "height": null,
       "justify_content": null,
       "justify_items": null,
       "left": null,
       "margin": null,
       "max_height": null,
       "max_width": null,
       "min_height": null,
       "min_width": null,
       "object_fit": null,
       "object_position": null,
       "order": null,
       "overflow": null,
       "padding": null,
       "right": null,
       "top": null,
       "visibility": null,
       "width": null
      }
     },
     "57c450e335564ce99ff7686ed530439c": {
      "model_module": "@jupyter-widgets/controls",
      "model_module_version": "2.0.0",
      "model_name": "FloatProgressModel",
      "state": {
       "_dom_classes": [],
       "_model_module": "@jupyter-widgets/controls",
       "_model_module_version": "2.0.0",
       "_model_name": "FloatProgressModel",
       "_view_count": null,
       "_view_module": "@jupyter-widgets/controls",
       "_view_module_version": "2.0.0",
       "_view_name": "ProgressView",
       "bar_style": "success",
       "description": "",
       "description_allow_html": false,
       "layout": "IPY_MODEL_afbdd7dec5444dfb83e3a4fc3b889342",
       "max": 1.0,
       "min": 0.0,
       "orientation": "horizontal",
       "style": "IPY_MODEL_12b7ef4a8dbc4ceb851b622a90d1e340",
       "tabbable": null,
       "tooltip": null,
       "value": 1.0
      }
     },
     "5abe0fcf86a8421dac830db9b8ae9d77": {
      "model_module": "@jupyter-widgets/controls",
      "model_module_version": "2.0.0",
      "model_name": "HBoxModel",
      "state": {
       "_dom_classes": [],
       "_model_module": "@jupyter-widgets/controls",
       "_model_module_version": "2.0.0",
       "_model_name": "HBoxModel",
       "_view_count": null,
       "_view_module": "@jupyter-widgets/controls",
       "_view_module_version": "2.0.0",
       "_view_name": "HBoxView",
       "box_style": "",
       "children": [
        "IPY_MODEL_3e08cef085324c5e8980c2ed918a2cbe",
        "IPY_MODEL_57c450e335564ce99ff7686ed530439c",
        "IPY_MODEL_e15e13626ac74e70bfe464a51d36d7d2"
       ],
       "layout": "IPY_MODEL_0c9543e0a417421e83d4a9d2d93a6b1d",
       "tabbable": null,
       "tooltip": null
      }
     },
     "63860e0a4d894de8899c35b4637bcb4d": {
      "model_module": "@jupyter-widgets/base",
      "model_module_version": "2.0.0",
      "model_name": "LayoutModel",
      "state": {
       "_model_module": "@jupyter-widgets/base",
       "_model_module_version": "2.0.0",
       "_model_name": "LayoutModel",
       "_view_count": null,
       "_view_module": "@jupyter-widgets/base",
       "_view_module_version": "2.0.0",
       "_view_name": "LayoutView",
       "align_content": null,
       "align_items": null,
       "align_self": null,
       "border_bottom": null,
       "border_left": null,
       "border_right": null,
       "border_top": null,
       "bottom": null,
       "display": null,
       "flex": null,
       "flex_flow": null,
       "grid_area": null,
       "grid_auto_columns": null,
       "grid_auto_flow": null,
       "grid_auto_rows": null,
       "grid_column": null,
       "grid_gap": null,
       "grid_row": null,
       "grid_template_areas": null,
       "grid_template_columns": null,
       "grid_template_rows": null,
       "height": null,
       "justify_content": null,
       "justify_items": null,
       "left": null,
       "margin": null,
       "max_height": null,
       "max_width": null,
       "min_height": null,
       "min_width": null,
       "object_fit": null,
       "object_position": null,
       "order": null,
       "overflow": null,
       "padding": null,
       "right": null,
       "top": null,
       "visibility": null,
       "width": null
      }
     },
     "65b37b9ba11045149344dac158278e24": {
      "model_module": "@jupyter-widgets/controls",
      "model_module_version": "2.0.0",
      "model_name": "HTMLStyleModel",
      "state": {
       "_model_module": "@jupyter-widgets/controls",
       "_model_module_version": "2.0.0",
       "_model_name": "HTMLStyleModel",
       "_view_count": null,
       "_view_module": "@jupyter-widgets/base",
       "_view_module_version": "2.0.0",
       "_view_name": "StyleView",
       "background": null,
       "description_width": "",
       "font_size": null,
       "text_color": null
      }
     },
     "665c0f5936f646c19ef0d5a3850c8d9f": {
      "model_module": "@jupyter-widgets/controls",
      "model_module_version": "2.0.0",
      "model_name": "HTMLStyleModel",
      "state": {
       "_model_module": "@jupyter-widgets/controls",
       "_model_module_version": "2.0.0",
       "_model_name": "HTMLStyleModel",
       "_view_count": null,
       "_view_module": "@jupyter-widgets/base",
       "_view_module_version": "2.0.0",
       "_view_name": "StyleView",
       "background": null,
       "description_width": "",
       "font_size": null,
       "text_color": null
      }
     },
     "723a0a596fc04a6999ef57d36a2807de": {
      "model_module": "@jupyter-widgets/base",
      "model_module_version": "2.0.0",
      "model_name": "LayoutModel",
      "state": {
       "_model_module": "@jupyter-widgets/base",
       "_model_module_version": "2.0.0",
       "_model_name": "LayoutModel",
       "_view_count": null,
       "_view_module": "@jupyter-widgets/base",
       "_view_module_version": "2.0.0",
       "_view_name": "LayoutView",
       "align_content": null,
       "align_items": null,
       "align_self": null,
       "border_bottom": null,
       "border_left": null,
       "border_right": null,
       "border_top": null,
       "bottom": null,
       "display": null,
       "flex": null,
       "flex_flow": null,
       "grid_area": null,
       "grid_auto_columns": null,
       "grid_auto_flow": null,
       "grid_auto_rows": null,
       "grid_column": null,
       "grid_gap": null,
       "grid_row": null,
       "grid_template_areas": null,
       "grid_template_columns": null,
       "grid_template_rows": null,
       "height": null,
       "justify_content": null,
       "justify_items": null,
       "left": null,
       "margin": null,
       "max_height": null,
       "max_width": null,
       "min_height": null,
       "min_width": null,
       "object_fit": null,
       "object_position": null,
       "order": null,
       "overflow": null,
       "padding": null,
       "right": null,
       "top": null,
       "visibility": null,
       "width": null
      }
     },
     "7863fe5a2bb84e2b8b34f0bcee230c46": {
      "model_module": "@jupyter-widgets/controls",
      "model_module_version": "2.0.0",
      "model_name": "HTMLModel",
      "state": {
       "_dom_classes": [],
       "_model_module": "@jupyter-widgets/controls",
       "_model_module_version": "2.0.0",
       "_model_name": "HTMLModel",
       "_view_count": null,
       "_view_module": "@jupyter-widgets/controls",
       "_view_module_version": "2.0.0",
       "_view_name": "HTMLView",
       "description": "",
       "description_allow_html": false,
       "layout": "IPY_MODEL_aa17392274314cc4ab06f73878ca3249",
       "placeholder": "​",
       "style": "IPY_MODEL_f0892a1bd0dd4f11bc4305ae85fe18f6",
       "tabbable": null,
       "tooltip": null,
       "value": " 27/27 [00:07&lt;00:00,  4.14it/s, Completed]"
      }
     },
     "7df4495ae7914b298f30da7ad56558d6": {
      "model_module": "@jupyter-widgets/controls",
      "model_module_version": "2.0.0",
      "model_name": "ProgressStyleModel",
      "state": {
       "_model_module": "@jupyter-widgets/controls",
       "_model_module_version": "2.0.0",
       "_model_name": "ProgressStyleModel",
       "_view_count": null,
       "_view_module": "@jupyter-widgets/base",
       "_view_module_version": "2.0.0",
       "_view_name": "StyleView",
       "bar_color": null,
       "description_width": ""
      }
     },
     "935d35a705064ba1a60ca3454fad1eaf": {
      "model_module": "@jupyter-widgets/base",
      "model_module_version": "2.0.0",
      "model_name": "LayoutModel",
      "state": {
       "_model_module": "@jupyter-widgets/base",
       "_model_module_version": "2.0.0",
       "_model_name": "LayoutModel",
       "_view_count": null,
       "_view_module": "@jupyter-widgets/base",
       "_view_module_version": "2.0.0",
       "_view_name": "LayoutView",
       "align_content": null,
       "align_items": null,
       "align_self": null,
       "border_bottom": null,
       "border_left": null,
       "border_right": null,
       "border_top": null,
       "bottom": null,
       "display": null,
       "flex": null,
       "flex_flow": null,
       "grid_area": null,
       "grid_auto_columns": null,
       "grid_auto_flow": null,
       "grid_auto_rows": null,
       "grid_column": null,
       "grid_gap": null,
       "grid_row": null,
       "grid_template_areas": null,
       "grid_template_columns": null,
       "grid_template_rows": null,
       "height": null,
       "justify_content": null,
       "justify_items": null,
       "left": null,
       "margin": null,
       "max_height": null,
       "max_width": null,
       "min_height": null,
       "min_width": null,
       "object_fit": null,
       "object_position": null,
       "order": null,
       "overflow": null,
       "padding": null,
       "right": null,
       "top": null,
       "visibility": null,
       "width": null
      }
     },
     "a219da4472c642329c904d735f5a8013": {
      "model_module": "@jupyter-widgets/controls",
      "model_module_version": "2.0.0",
      "model_name": "HTMLModel",
      "state": {
       "_dom_classes": [],
       "_model_module": "@jupyter-widgets/controls",
       "_model_module_version": "2.0.0",
       "_model_name": "HTMLModel",
       "_view_count": null,
       "_view_module": "@jupyter-widgets/controls",
       "_view_module_version": "2.0.0",
       "_view_name": "HTMLView",
       "description": "",
       "description_allow_html": false,
       "layout": "IPY_MODEL_f40933a484a441558adbdb04f5b9b6bc",
       "placeholder": "​",
       "style": "IPY_MODEL_1ecbc020bd214fdbaa373f09b7112d2c",
       "tabbable": null,
       "tooltip": null,
       "value": " 1/1 [00:00&lt;00:00, 60.36it/s]"
      }
     },
     "a5147c0241cb44b98039a1e81b7c5af2": {
      "model_module": "@jupyter-widgets/base",
      "model_module_version": "2.0.0",
      "model_name": "LayoutModel",
      "state": {
       "_model_module": "@jupyter-widgets/base",
       "_model_module_version": "2.0.0",
       "_model_name": "LayoutModel",
       "_view_count": null,
       "_view_module": "@jupyter-widgets/base",
       "_view_module_version": "2.0.0",
       "_view_name": "LayoutView",
       "align_content": null,
       "align_items": null,
       "align_self": null,
       "border_bottom": null,
       "border_left": null,
       "border_right": null,
       "border_top": null,
       "bottom": null,
       "display": null,
       "flex": null,
       "flex_flow": null,
       "grid_area": null,
       "grid_auto_columns": null,
       "grid_auto_flow": null,
       "grid_auto_rows": null,
       "grid_column": null,
       "grid_gap": null,
       "grid_row": null,
       "grid_template_areas": null,
       "grid_template_columns": null,
       "grid_template_rows": null,
       "height": null,
       "justify_content": null,
       "justify_items": null,
       "left": null,
       "margin": null,
       "max_height": null,
       "max_width": null,
       "min_height": null,
       "min_width": null,
       "object_fit": null,
       "object_position": null,
       "order": null,
       "overflow": null,
       "padding": null,
       "right": null,
       "top": null,
       "visibility": null,
       "width": null
      }
     },
     "a8809cbcb53244ba905c06e21d9a80e1": {
      "model_module": "@jupyter-widgets/controls",
      "model_module_version": "2.0.0",
      "model_name": "HBoxModel",
      "state": {
       "_dom_classes": [],
       "_model_module": "@jupyter-widgets/controls",
       "_model_module_version": "2.0.0",
       "_model_name": "HBoxModel",
       "_view_count": null,
       "_view_module": "@jupyter-widgets/controls",
       "_view_module_version": "2.0.0",
       "_view_name": "HBoxView",
       "box_style": "",
       "children": [
        "IPY_MODEL_bda5c703b41d435d91a66cf0e57239d3",
        "IPY_MODEL_1586687d64e7466f876b50128277dc06",
        "IPY_MODEL_18c483db383f42849220ff5a711c416c"
       ],
       "layout": "IPY_MODEL_935d35a705064ba1a60ca3454fad1eaf",
       "tabbable": null,
       "tooltip": null
      }
     },
     "aa17392274314cc4ab06f73878ca3249": {
      "model_module": "@jupyter-widgets/base",
      "model_module_version": "2.0.0",
      "model_name": "LayoutModel",
      "state": {
       "_model_module": "@jupyter-widgets/base",
       "_model_module_version": "2.0.0",
       "_model_name": "LayoutModel",
       "_view_count": null,
       "_view_module": "@jupyter-widgets/base",
       "_view_module_version": "2.0.0",
       "_view_name": "LayoutView",
       "align_content": null,
       "align_items": null,
       "align_self": null,
       "border_bottom": null,
       "border_left": null,
       "border_right": null,
       "border_top": null,
       "bottom": null,
       "display": null,
       "flex": null,
       "flex_flow": null,
       "grid_area": null,
       "grid_auto_columns": null,
       "grid_auto_flow": null,
       "grid_auto_rows": null,
       "grid_column": null,
       "grid_gap": null,
       "grid_row": null,
       "grid_template_areas": null,
       "grid_template_columns": null,
       "grid_template_rows": null,
       "height": null,
       "justify_content": null,
       "justify_items": null,
       "left": null,
       "margin": null,
       "max_height": null,
       "max_width": null,
       "min_height": null,
       "min_width": null,
       "object_fit": null,
       "object_position": null,
       "order": null,
       "overflow": null,
       "padding": null,
       "right": null,
       "top": null,
       "visibility": null,
       "width": null
      }
     },
     "ac3b9ce98a1e4aecb82ba0b8176ed223": {
      "model_module": "@jupyter-widgets/controls",
      "model_module_version": "2.0.0",
      "model_name": "HTMLStyleModel",
      "state": {
       "_model_module": "@jupyter-widgets/controls",
       "_model_module_version": "2.0.0",
       "_model_name": "HTMLStyleModel",
       "_view_count": null,
       "_view_module": "@jupyter-widgets/base",
       "_view_module_version": "2.0.0",
       "_view_name": "StyleView",
       "background": null,
       "description_width": "",
       "font_size": null,
       "text_color": null
      }
     },
     "ac959f4686fe44a7a73524d3e8ebc1c0": {
      "model_module": "@jupyter-widgets/controls",
      "model_module_version": "2.0.0",
      "model_name": "HTMLStyleModel",
      "state": {
       "_model_module": "@jupyter-widgets/controls",
       "_model_module_version": "2.0.0",
       "_model_name": "HTMLStyleModel",
       "_view_count": null,
       "_view_module": "@jupyter-widgets/base",
       "_view_module_version": "2.0.0",
       "_view_name": "StyleView",
       "background": null,
       "description_width": "",
       "font_size": null,
       "text_color": null
      }
     },
     "afbdd7dec5444dfb83e3a4fc3b889342": {
      "model_module": "@jupyter-widgets/base",
      "model_module_version": "2.0.0",
      "model_name": "LayoutModel",
      "state": {
       "_model_module": "@jupyter-widgets/base",
       "_model_module_version": "2.0.0",
       "_model_name": "LayoutModel",
       "_view_count": null,
       "_view_module": "@jupyter-widgets/base",
       "_view_module_version": "2.0.0",
       "_view_name": "LayoutView",
       "align_content": null,
       "align_items": null,
       "align_self": null,
       "border_bottom": null,
       "border_left": null,
       "border_right": null,
       "border_top": null,
       "bottom": null,
       "display": null,
       "flex": null,
       "flex_flow": null,
       "grid_area": null,
       "grid_auto_columns": null,
       "grid_auto_flow": null,
       "grid_auto_rows": null,
       "grid_column": null,
       "grid_gap": null,
       "grid_row": null,
       "grid_template_areas": null,
       "grid_template_columns": null,
       "grid_template_rows": null,
       "height": null,
       "justify_content": null,
       "justify_items": null,
       "left": null,
       "margin": null,
       "max_height": null,
       "max_width": null,
       "min_height": null,
       "min_width": null,
       "object_fit": null,
       "object_position": null,
       "order": null,
       "overflow": null,
       "padding": null,
       "right": null,
       "top": null,
       "visibility": null,
       "width": null
      }
     },
     "b24d3ba4c0a847f08f2452a7b88f8721": {
      "model_module": "@jupyter-widgets/controls",
      "model_module_version": "2.0.0",
      "model_name": "ProgressStyleModel",
      "state": {
       "_model_module": "@jupyter-widgets/controls",
       "_model_module_version": "2.0.0",
       "_model_name": "ProgressStyleModel",
       "_view_count": null,
       "_view_module": "@jupyter-widgets/base",
       "_view_module_version": "2.0.0",
       "_view_name": "StyleView",
       "bar_color": null,
       "description_width": ""
      }
     },
     "bda5c703b41d435d91a66cf0e57239d3": {
      "model_module": "@jupyter-widgets/controls",
      "model_module_version": "2.0.0",
      "model_name": "HTMLModel",
      "state": {
       "_dom_classes": [],
       "_model_module": "@jupyter-widgets/controls",
       "_model_module_version": "2.0.0",
       "_model_name": "HTMLModel",
       "_view_count": null,
       "_view_module": "@jupyter-widgets/controls",
       "_view_module_version": "2.0.0",
       "_view_name": "HTMLView",
       "description": "",
       "description_allow_html": false,
       "layout": "IPY_MODEL_c3752d3fee714076bbfee69d8c9cd5f8",
       "placeholder": "​",
       "style": "IPY_MODEL_ac3b9ce98a1e4aecb82ba0b8176ed223",
       "tabbable": null,
       "tooltip": null,
       "value": "Generate report structure: 100%"
      }
     },
     "c3752d3fee714076bbfee69d8c9cd5f8": {
      "model_module": "@jupyter-widgets/base",
      "model_module_version": "2.0.0",
      "model_name": "LayoutModel",
      "state": {
       "_model_module": "@jupyter-widgets/base",
       "_model_module_version": "2.0.0",
       "_model_name": "LayoutModel",
       "_view_count": null,
       "_view_module": "@jupyter-widgets/base",
       "_view_module_version": "2.0.0",
       "_view_name": "LayoutView",
       "align_content": null,
       "align_items": null,
       "align_self": null,
       "border_bottom": null,
       "border_left": null,
       "border_right": null,
       "border_top": null,
       "bottom": null,
       "display": null,
       "flex": null,
       "flex_flow": null,
       "grid_area": null,
       "grid_auto_columns": null,
       "grid_auto_flow": null,
       "grid_auto_rows": null,
       "grid_column": null,
       "grid_gap": null,
       "grid_row": null,
       "grid_template_areas": null,
       "grid_template_columns": null,
       "grid_template_rows": null,
       "height": null,
       "justify_content": null,
       "justify_items": null,
       "left": null,
       "margin": null,
       "max_height": null,
       "max_width": null,
       "min_height": null,
       "min_width": null,
       "object_fit": null,
       "object_position": null,
       "order": null,
       "overflow": null,
       "padding": null,
       "right": null,
       "top": null,
       "visibility": null,
       "width": null
      }
     },
     "ca4c8b820c5345c69fb05891e19beaf2": {
      "model_module": "@jupyter-widgets/base",
      "model_module_version": "2.0.0",
      "model_name": "LayoutModel",
      "state": {
       "_model_module": "@jupyter-widgets/base",
       "_model_module_version": "2.0.0",
       "_model_name": "LayoutModel",
       "_view_count": null,
       "_view_module": "@jupyter-widgets/base",
       "_view_module_version": "2.0.0",
       "_view_name": "LayoutView",
       "align_content": null,
       "align_items": null,
       "align_self": null,
       "border_bottom": null,
       "border_left": null,
       "border_right": null,
       "border_top": null,
       "bottom": null,
       "display": null,
       "flex": null,
       "flex_flow": null,
       "grid_area": null,
       "grid_auto_columns": null,
       "grid_auto_flow": null,
       "grid_auto_rows": null,
       "grid_column": null,
       "grid_gap": null,
       "grid_row": null,
       "grid_template_areas": null,
       "grid_template_columns": null,
       "grid_template_rows": null,
       "height": null,
       "justify_content": null,
       "justify_items": null,
       "left": null,
       "margin": null,
       "max_height": null,
       "max_width": null,
       "min_height": null,
       "min_width": null,
       "object_fit": null,
       "object_position": null,
       "order": null,
       "overflow": null,
       "padding": null,
       "right": null,
       "top": null,
       "visibility": null,
       "width": null
      }
     },
     "dadb74a5454b4179abf42391f1beb04c": {
      "model_module": "@jupyter-widgets/controls",
      "model_module_version": "2.0.0",
      "model_name": "HTMLStyleModel",
      "state": {
       "_model_module": "@jupyter-widgets/controls",
       "_model_module_version": "2.0.0",
       "_model_name": "HTMLStyleModel",
       "_view_count": null,
       "_view_module": "@jupyter-widgets/base",
       "_view_module_version": "2.0.0",
       "_view_name": "StyleView",
       "background": null,
       "description_width": "",
       "font_size": null,
       "text_color": null
      }
     },
     "dc533a6e2b454381ba5c83b7d8f2786b": {
      "model_module": "@jupyter-widgets/controls",
      "model_module_version": "2.0.0",
      "model_name": "HTMLModel",
      "state": {
       "_dom_classes": [],
       "_model_module": "@jupyter-widgets/controls",
       "_model_module_version": "2.0.0",
       "_model_name": "HTMLModel",
       "_view_count": null,
       "_view_module": "@jupyter-widgets/controls",
       "_view_module_version": "2.0.0",
       "_view_name": "HTMLView",
       "description": "",
       "description_allow_html": false,
       "layout": "IPY_MODEL_360e21b3418142039e954cd2edc67393",
       "placeholder": "​",
       "style": "IPY_MODEL_65b37b9ba11045149344dac158278e24",
       "tabbable": null,
       "tooltip": null,
       "value": "Export report to file: 100%"
      }
     },
     "e15e13626ac74e70bfe464a51d36d7d2": {
      "model_module": "@jupyter-widgets/controls",
      "model_module_version": "2.0.0",
      "model_name": "HTMLModel",
      "state": {
       "_dom_classes": [],
       "_model_module": "@jupyter-widgets/controls",
       "_model_module_version": "2.0.0",
       "_model_name": "HTMLModel",
       "_view_count": null,
       "_view_module": "@jupyter-widgets/controls",
       "_view_module_version": "2.0.0",
       "_view_name": "HTMLView",
       "description": "",
       "description_allow_html": false,
       "layout": "IPY_MODEL_20b10167d022482093f166b3008ca709",
       "placeholder": "​",
       "style": "IPY_MODEL_ac959f4686fe44a7a73524d3e8ebc1c0",
       "tabbable": null,
       "tooltip": null,
       "value": " 1/1 [00:00&lt;00:00,  1.43it/s]"
      }
     },
     "e4f82814ed2a431593fe79b9afc21ad9": {
      "model_module": "@jupyter-widgets/controls",
      "model_module_version": "2.0.0",
      "model_name": "HBoxModel",
      "state": {
       "_dom_classes": [],
       "_model_module": "@jupyter-widgets/controls",
       "_model_module_version": "2.0.0",
       "_model_name": "HBoxModel",
       "_view_count": null,
       "_view_module": "@jupyter-widgets/controls",
       "_view_module_version": "2.0.0",
       "_view_name": "HBoxView",
       "box_style": "",
       "children": [
        "IPY_MODEL_dc533a6e2b454381ba5c83b7d8f2786b",
        "IPY_MODEL_3f47785386c645c3adb7a540ece4ac2c",
        "IPY_MODEL_a219da4472c642329c904d735f5a8013"
       ],
       "layout": "IPY_MODEL_ca4c8b820c5345c69fb05891e19beaf2",
       "tabbable": null,
       "tooltip": null
      }
     },
     "eaff08b1443d43afb20f278f90c94ad7": {
      "model_module": "@jupyter-widgets/controls",
      "model_module_version": "2.0.0",
      "model_name": "HTMLModel",
      "state": {
       "_dom_classes": [],
       "_model_module": "@jupyter-widgets/controls",
       "_model_module_version": "2.0.0",
       "_model_name": "HTMLModel",
       "_view_count": null,
       "_view_module": "@jupyter-widgets/controls",
       "_view_module_version": "2.0.0",
       "_view_name": "HTMLView",
       "description": "",
       "description_allow_html": false,
       "layout": "IPY_MODEL_723a0a596fc04a6999ef57d36a2807de",
       "placeholder": "​",
       "style": "IPY_MODEL_dadb74a5454b4179abf42391f1beb04c",
       "tabbable": null,
       "tooltip": null,
       "value": "Summarize dataset: 100%"
      }
     },
     "f0892a1bd0dd4f11bc4305ae85fe18f6": {
      "model_module": "@jupyter-widgets/controls",
      "model_module_version": "2.0.0",
      "model_name": "HTMLStyleModel",
      "state": {
       "_model_module": "@jupyter-widgets/controls",
       "_model_module_version": "2.0.0",
       "_model_name": "HTMLStyleModel",
       "_view_count": null,
       "_view_module": "@jupyter-widgets/base",
       "_view_module_version": "2.0.0",
       "_view_name": "StyleView",
       "background": null,
       "description_width": "",
       "font_size": null,
       "text_color": null
      }
     },
     "f40933a484a441558adbdb04f5b9b6bc": {
      "model_module": "@jupyter-widgets/base",
      "model_module_version": "2.0.0",
      "model_name": "LayoutModel",
      "state": {
       "_model_module": "@jupyter-widgets/base",
       "_model_module_version": "2.0.0",
       "_model_name": "LayoutModel",
       "_view_count": null,
       "_view_module": "@jupyter-widgets/base",
       "_view_module_version": "2.0.0",
       "_view_name": "LayoutView",
       "align_content": null,
       "align_items": null,
       "align_self": null,
       "border_bottom": null,
       "border_left": null,
       "border_right": null,
       "border_top": null,
       "bottom": null,
       "display": null,
       "flex": null,
       "flex_flow": null,
       "grid_area": null,
       "grid_auto_columns": null,
       "grid_auto_flow": null,
       "grid_auto_rows": null,
       "grid_column": null,
       "grid_gap": null,
       "grid_row": null,
       "grid_template_areas": null,
       "grid_template_columns": null,
       "grid_template_rows": null,
       "height": null,
       "justify_content": null,
       "justify_items": null,
       "left": null,
       "margin": null,
       "max_height": null,
       "max_width": null,
       "min_height": null,
       "min_width": null,
       "object_fit": null,
       "object_position": null,
       "order": null,
       "overflow": null,
       "padding": null,
       "right": null,
       "top": null,
       "visibility": null,
       "width": null
      }
     },
     "ff050b2c7f1e4132816e6d08e115c916": {
      "model_module": "@jupyter-widgets/controls",
      "model_module_version": "2.0.0",
      "model_name": "HTMLStyleModel",
      "state": {
       "_model_module": "@jupyter-widgets/controls",
       "_model_module_version": "2.0.0",
       "_model_name": "HTMLStyleModel",
       "_view_count": null,
       "_view_module": "@jupyter-widgets/base",
       "_view_module_version": "2.0.0",
       "_view_name": "StyleView",
       "background": null,
       "description_width": "",
       "font_size": null,
       "text_color": null
      }
     }
    },
    "version_major": 2,
    "version_minor": 0
   }
  }
 },
 "nbformat": 4,
 "nbformat_minor": 5
}
